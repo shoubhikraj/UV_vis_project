{
 "cells": [
  {
   "cell_type": "markdown",
   "id": "fad0d4a3",
   "metadata": {},
   "source": [
    "## Extracting data from sTD-xTB outputs"
   ]
  },
  {
   "cell_type": "markdown",
   "id": "3061dfc8",
   "metadata": {},
   "source": [
    "The output files are assumed to be `./std_xtb_run/train-*-std.out`, * being the entry number in csv. The excitation ($\\Delta E_{max}$) corresponding to the experimental $\\lambda_{max}$ has to be extracted from the sTD-xTB output files. We use a simple procedure—first, all peaks in the range $(\\Delta E_{max}-0.8$, $\\Delta E_{max}+0.5)$ are extracted, then, the peak with the highest oscillator strength among those peaks is selected. The numbers used in constructing the range are estimates from the benchmark. (In case there is no peak in the range, then the first excitation is selected.)\n",
    "\n",
    "After data extraction, all entries where the calculated and experimental values differ by more than 100 nm are discarded. This is because such high errors can't be corrected by machine learning."
   ]
  },
  {
   "cell_type": "code",
   "execution_count": 1,
   "id": "74c402a7",
   "metadata": {},
   "outputs": [],
   "source": [
    "# data reading and processing\n",
    "import pandas as pd\n",
    "import numpy as np\n",
    "\n",
    "# plotting\n",
    "import matplotlib.pyplot as plt\n",
    "\n",
    "# for MAE values\n",
    "from sklearn.metrics import mean_absolute_error"
   ]
  },
  {
   "cell_type": "code",
   "execution_count": 2,
   "id": "515cf937",
   "metadata": {},
   "outputs": [],
   "source": [
    "def get_xtb_lambda(filename,range_min,range_max):\n",
    "    \"\"\" Given a range of wavelengths, it extracts higest peak in eV from sTDA-xTB output \"\"\"\n",
    "    header_found=False\n",
    "    lambda_list = [] # lambda in eV here!!!\n",
    "    foscs_list = []\n",
    "    with open(filename,'r') as fh:\n",
    "        for line in fh:\n",
    "            if not header_found:\n",
    "                if line.find('state    eV      nm       fL         Rv')!=-1:\n",
    "                    header_found=True\n",
    "            elif line.strip()!='':\n",
    "                data = line.strip().split()\n",
    "                lambda_list.append(float(data[1])) ## get eV\n",
    "                foscs_list.append(float(data[3])) ## get fL\n",
    "            else:\n",
    "                break\n",
    "    lambda_list_new = np.array(lambda_list) # convert to numpy array\n",
    "    foscs_list_new = np.array(foscs_list)\n",
    "    my_filter = (lambda_list_new>range_min) & (lambda_list_new<range_max)\n",
    "    foscs_list_new = foscs_list_new[my_filter]\n",
    "    lambda_list_new = lambda_list_new[my_filter]\n",
    "    if len(lambda_list_new)!=0:\n",
    "        return lambda_list_new[np.argmax(foscs_list_new)]\n",
    "    else: # unusual case, return the first excitation\n",
    "        #abs_diff_func = lambda x : abs(x-lambda_max_val)\n",
    "        #return min(lambda_list_new,key=abs_diff_func)\n",
    "        return min(lambda_list)\n",
    "\n",
    "#\n",
    "def nm_to_ev(x):\n",
    "    \"\"\" This function converts nm to eV and vice versa \"\"\"\n",
    "    return 1239.84/x\n",
    "\n",
    "#\n",
    "def plot_regression_ys(x_vals,y_vals):\n",
    "    \"\"\" Takes x and y values, then returns y values for regression line\"\"\"\n",
    "    x_vals = np.array(x_vals)\n",
    "    y_vals = np.array(y_vals)\n",
    "    slope,intercept = np.polyfit(x_vals,y_vals,1)\n",
    "    return x_vals*slope+intercept"
   ]
  },
  {
   "cell_type": "code",
   "execution_count": 3,
   "id": "2c8ca6f0",
   "metadata": {},
   "outputs": [],
   "source": [
    "# data should have index, SMILES, experimental value, solvent name\n",
    "train_data = pd.read_csv('../train_dataset.csv').drop('description',axis=1).rename(columns={'Unnamed: 0':'num'})\n",
    "# round off to one decimal point\n",
    "train_data = train_data.round({'lambda_max_exp_nm':1})\n",
    "# convert to eV\n",
    "train_data['abs_max_ev'] = train_data['lambda_max_exp_nm'].apply(nm_to_ev)\n",
    "# populate ranges\n",
    "train_data['range_min'] = train_data['abs_max_ev'].apply(lambda x: x-0.5)\n",
    "train_data['range_max'] = train_data['abs_max_ev'].apply(lambda x: x+0.5)\n",
    "# extract data\n",
    "std_max_list = []\n",
    "for i in range(len(train_data)):\n",
    "    std_max_list.append(\n",
    "                        get_xtb_lambda('./std_xtb_run/train-'+str(train_data.num[i])+'-std.out',\n",
    "                        train_data.range_min[i],\n",
    "                        train_data.range_max[i])\n",
    "                       )\n",
    "train_data['std_max_ev'] = std_max_list\n",
    "# remove anything that has more than 1 eV difference from experiment\n",
    "for i in range(len(train_data)):\n",
    "    if abs(train_data.loc[i,'std_max_ev'] - train_data.loc[i,'abs_max_ev']) > 1.0:\n",
    "        train_data.loc[i,'std_max_ev'] = np.nan\n",
    "train_data = train_data.dropna().reset_index(drop=True)"
   ]
  },
  {
   "cell_type": "code",
   "execution_count": 4,
   "id": "28377e06",
   "metadata": {
    "scrolled": true
   },
   "outputs": [],
   "source": [
    "# Now do the same for test dataset\n",
    "test_data = pd.read_csv('../test_dataset.csv').drop('description',axis=1).rename(columns={'Unnamed: 0':'num'})\n",
    "# round off to one decimal point\n",
    "test_data = test_data.round({'lambda_max_exp_nm':1})\n",
    "# convert to eV\n",
    "test_data['abs_max_ev'] = test_data['lambda_max_exp_nm'].apply(nm_to_ev)\n",
    "# populate ranges\n",
    "test_data['range_min'] = test_data['abs_max_ev'].apply(lambda x: x-0.5)\n",
    "test_data['range_max'] = test_data['abs_max_ev'].apply(lambda x: x+0.5)\n",
    "# extract data\n",
    "std_max_list = []\n",
    "for i in range(len(test_data)):\n",
    "    std_max_list.append(\n",
    "                        get_xtb_lambda('../test/std_xtb_run/test-'+str(test_data.num[i])+'-std.out',\n",
    "                        test_data.range_min[i],\n",
    "                        test_data.range_max[i])\n",
    "                       )\n",
    "test_data['std_max_ev'] = std_max_list\n",
    "# remove anything that has more than 1 eV difference from experiment\n",
    "for i in range(len(test_data)):\n",
    "    if abs(test_data.loc[i,'std_max_ev'] - test_data.loc[i,'abs_max_ev']) > 1.0:\n",
    "        test_data.loc[i,'std_max_ev'] = np.nan\n",
    "test_data = test_data.dropna().reset_index(drop=True)"
   ]
  },
  {
   "cell_type": "code",
   "execution_count": 5,
   "id": "5bc4775d",
   "metadata": {},
   "outputs": [],
   "source": [
    "y_train = np.array(train_data.abs_max_ev) - np.array(train_data.std_max_ev)\n",
    "y_test = np.array(test_data.abs_max_ev) - np.array(test_data.std_max_ev)"
   ]
  },
  {
   "cell_type": "markdown",
   "id": "926f6468",
   "metadata": {},
   "source": [
    "Plotting the data:"
   ]
  },
  {
   "cell_type": "code",
   "execution_count": 6,
   "id": "5abd8226",
   "metadata": {
    "scrolled": true
   },
   "outputs": [
    {
     "data": {
      "image/png": "[encoded data removed]",
      "text/plain": [
       "<Figure size 720x288 with 2 Axes>"
      ]
     },
     "metadata": {
      "needs_background": "light"
     },
     "output_type": "display_data"
    }
   ],
   "source": [
    "#plt.plot(data['lambda_max_stda'],data['lambda_max_exp_nm'],'.')\n",
    "fig, (ax1,ax2) = plt.subplots(1,2,figsize=(10,4))\n",
    "ax1.plot(train_data.abs_max_ev,train_data.std_max_ev,'.')\n",
    "ax1.plot(train_data.abs_max_ev,plot_regression_ys(train_data.abs_max_ev,train_data.std_max_ev))\n",
    "ax1.set_xlabel('$\\lambda_\\mathrm{max}$/eV (exp.)',fontsize='x-large')\n",
    "ax1.set_ylabel('$\\lambda_\\mathrm{max}$/eV (sTD-xTB)',fontsize='x-large')\n",
    "ax1.tick_params(labelsize='large')\n",
    "ax2.hist(y_train,bins=30,range=(-2,2),histtype='step')\n",
    "ax2.set_xlabel('Errors (eV)',fontsize='x-large')\n",
    "ax2.set_ylabel('Frequency',fontsize='x-large')\n",
    "ax2.tick_params(labelsize='large')\n",
    "plt.tight_layout()\n",
    "plt.show()"
   ]
  },
  {
   "cell_type": "code",
   "execution_count": 7,
   "id": "d507dbe2",
   "metadata": {},
   "outputs": [
    {
     "name": "stdout",
     "output_type": "stream",
     "text": [
      "MAE of abs. maxima wavelength from sTD-xTB vs Experimental result: 0.235817 eV\n"
     ]
    }
   ],
   "source": [
    "print('MAE of abs. maxima wavelength from sTD-xTB vs Experimental result: %3f eV'%\n",
    "      mean_absolute_error(train_data['abs_max_ev'],train_data['std_max_ev'])\n",
    "     )"
   ]
  },
  {
   "cell_type": "markdown",
   "id": "b431f85f",
   "metadata": {},
   "source": [
    "## Preparing the models\n",
    "Here we use `scikit-learn`'s linear regression, lasso, SVM regression and multi-layer perceptron regression models. The models are provided by a function which returns the average MAE from 5-fold cross-validation. This average MAE is minimised by `optuna` during hyperparameter optimisation."
   ]
  },
  {
   "cell_type": "code",
   "execution_count": 8,
   "id": "c56b8d72",
   "metadata": {},
   "outputs": [],
   "source": [
    "# learning models\n",
    "from sklearn.linear_model import Lasso, LinearRegression\n",
    "from sklearn.ensemble import RandomForestRegressor\n",
    "from sklearn.svm import SVR\n",
    "from sklearn.neural_network import MLPRegressor\n",
    "\n",
    "# cross_validation\n",
    "from sklearn.model_selection import cross_val_score\n",
    "\n",
    "# for search space\n",
    "#import skopt.space"
   ]
  },
  {
   "cell_type": "code",
   "execution_count": 9,
   "id": "64b7a62f",
   "metadata": {},
   "outputs": [],
   "source": [
    "def get_model(trial,m_name,X_input,y_input,std_dev_list,return_model=False):\n",
    "    \"\"\" Provides an optimization function for Optuna\"\"\"\n",
    "    # trial (optuna trial object) = required for optuna\n",
    "    # m_name (string) = type of regression model\n",
    "    # X_input (2D array)\n",
    "    # y_input (1D array)\n",
    "    # std_dev_list (list) = to store the standard deviations for each call\n",
    "    # return_model (bool) = whether to return fitted model, or just the average cross-val error\n",
    "    if m_name == 'svm': #SVR\n",
    "        #kernel_val = trial.suggest_categorical('kernel_val',['rbf','poly'])\n",
    "        #degree_val = trial.suggest_categorical('degree_val',[3,5])\n",
    "        C_val = trial.suggest_loguniform('C_val',1e-6,1e+6)\n",
    "        gamma_val = trial.suggest_loguniform('gamma_val',1e-6,1e+6)\n",
    "        epsilon_val = trial.suggest_loguniform('epsilon_val',1e-3,1e+3)\n",
    "        model = SVR(C=C_val,gamma=gamma_val,epsilon=epsilon_val,cache_size=300)\n",
    "    elif m_name == 'rf': # random forest\n",
    "        #max_depth_list.append(None)\n",
    "        n_estim_val = trial.suggest_int('n_estim_val',10,100,step=10)\n",
    "        max_feat_val = trial.suggest_categorical('max_feat_val',['auto','sqrt','log2'])\n",
    "        max_depth_val = trial.suggest_categorical('max_depth_val',[int(x) for x in np.linspace(10,110,num=11)])\n",
    "        min_samp_spl_val = trial.suggest_categorical('min_samp_spl_val',[2,5,10])\n",
    "        min_samp_lf_val = trial.suggest_categorical('min_samp_lf_val',[1,2,4])\n",
    "        #bootstrap_val = trial.suggest_categorical('bootstrap_val',[True,False])\n",
    "        max_samp_val = trial.suggest_categorical('max_samp_val',[0.9,0.5,0.8])\n",
    "        model = RandomForestRegressor(\n",
    "            n_estimators=n_estim_val,\n",
    "            max_features=max_feat_val,\n",
    "            max_depth=max_depth_val,\n",
    "            min_samples_split=min_samp_spl_val,\n",
    "            min_samples_leaf=min_samp_lf_val,\n",
    "            bootstrap=True,\n",
    "            max_samples=max_samp_val\n",
    "        )\n",
    "    elif m_name == 'lasso': # Lasso\n",
    "        alpha_val = trial.suggest_loguniform('alpha_val',1e-3,1000)\n",
    "        model = Lasso(alpha=alpha_val,max_iter=90000,tol=0.5e-3)\n",
    "    elif m_name == 'mlp': # neural network\n",
    "        hidden_layer_val = trial.suggest_categorical('hidden_layer_val',[(100,),(50,100,50),(75,50,20)])\n",
    "        activation_val = trial.suggest_categorical('activation_val',['tanh','relu'])\n",
    "        #solver_val = trial.suggest_categorical('solver_val',['adam','lbfgs'])\n",
    "        alpha_val = trial.suggest_loguniform('alpha_val',0.0001,10)\n",
    "        batch_size_val = trial.suggest_categorical('batch_size_val',[64,128,'auto'])\n",
    "        learning_rt_val = trial.suggest_categorical('learning_rt_val',['constant','adaptive'])\n",
    "        model= MLPRegressor(\n",
    "            max_iter=50000,\n",
    "            #max_fun=50000,\n",
    "            hidden_layer_sizes=hidden_layer_val,\n",
    "            activation=activation_val,\n",
    "            #solver=solver_val,\n",
    "            alpha=alpha_val,\n",
    "            batch_size=batch_size_val,\n",
    "            learning_rate=learning_rt_val\n",
    "        )\n",
    "    else:\n",
    "        raise ValueError('Unidentified model name!')\n",
    "    if return_model:\n",
    "        # in return_result mode, it returns the fitted model\n",
    "        model.fit(X_input,y_input)\n",
    "        return model\n",
    "    else:\n",
    "        # else fit the model and return data\n",
    "        score = cross_val_score(model,X_input,y_input,cv=5,scoring='neg_mean_absolute_error',n_jobs=-1)\n",
    "        std_dev_list.append(score.std())\n",
    "        return -score.mean()"
   ]
  },
  {
   "cell_type": "markdown",
   "id": "94bf59d1",
   "metadata": {},
   "source": [
    "## Preparing the fingerprints\n",
    "We use atom-pair fingerprint, morgan fingerprint, MACCS keys, RDK topological fingerprint from `rdkit` and descriptors from `mordred`"
   ]
  },
  {
   "cell_type": "code",
   "execution_count": 10,
   "id": "5a0f3ce2",
   "metadata": {},
   "outputs": [],
   "source": [
    "import subprocess\n",
    "import random\n",
    "import io\n",
    "import sys\n",
    "import glob\n",
    "\n",
    "# saving and reloading expensive data\n",
    "import pickle\n",
    "\n",
    "# preprocessing\n",
    "from sklearn.pipeline import Pipeline\n",
    "from sklearn.compose import ColumnTransformer\n",
    "from sklearn.preprocessing import StandardScaler\n",
    "from sklearn.decomposition import PCA\n",
    "from sklearn.feature_selection import VarianceThreshold\n",
    "#from sklearn.model_selection import cross_val_score\n",
    "\n",
    "# for fingerprints\n",
    "from rdkit import Chem\n",
    "from rdkit.Chem import AllChem\n",
    "from rdkit.Chem.AtomPairs.Pairs import GetHashedAtomPairFingerprint\n",
    "from rdkit.Chem.rdMolDescriptors import GetHashedMorganFingerprint\n",
    "from rdkit.Chem.rdMolDescriptors import GetMACCSKeysFingerprint\n",
    "from rdkit.Chem.rdmolops import RDKFingerprint\n",
    "from mordred import Calculator, descriptors"
   ]
  },
  {
   "cell_type": "code",
   "execution_count": 11,
   "id": "0cd4f9b4",
   "metadata": {},
   "outputs": [],
   "source": [
    "%%capture\n",
    "try:\n",
    "    with open('mordred_selected_columns.pkl','rb') as fh:\n",
    "        mordred_select_cols = pickle.load(fh)\n",
    "        if len(mordred_select_cols) != 1284:\n",
    "            raise Exception('Corrupted pickle file for available descriptors in Mordred')\n",
    "except:\n",
    "    dummy_list = []\n",
    "    for dummy_file in glob.iglob('./final_xtb_opt/*.mol'):\n",
    "        dummy_list.append(Chem.MolFromMolFile(dummy_file))\n",
    "    for dummy_file in glob.iglob('../test/final_xtb_opt/*.mol'):\n",
    "        dummy_list.append(Chem.MolFromMolFile(dummy_file))\n",
    "    dummy_calc = Calculator(descriptors,ignore_3D=False)\n",
    "    dummy_df = dummy_calc.pandas(dummy_list)\n",
    "    # extract numerical columns that are available for all the molecules\n",
    "    mordred_select_cols = list(dummy_df.select_dtypes(exclude='object').columns)\n",
    "    dummy_calc = dummy_list = dummy_df = None # free up memory\n",
    "    with open('mordred_selected_columns.pkl','wb') as fh:\n",
    "        pickle.dump(mordred_select_cols,fh,pickle.HIGHEST_PROTOCOL)"
   ]
  },
  {
   "cell_type": "code",
   "execution_count": 12,
   "id": "453e7623",
   "metadata": {},
   "outputs": [],
   "source": [
    "solvent_to_eps = {'1,2-dichloroethane':1.4448**2, 'acetone':1.3588**2, 'acetonitrile':1.3442**2, 'benzene':1.5011**2,\n",
    "       'carbon tetrachloride':1.4601**2, 'chloroform':1.4459**2, 'cyclohexane':1.4266**2,\n",
    "       'dichloromethane':1.4242**2,'diethyl ether':1.3526**2, 'dimethylformamide':1.4305**2,\n",
    "       'dimethylsulfoxide':1.4783**2, 'dioxane':1.4224**2,'ethanol':1.3611**2,\n",
    "       'ethyl ethanoate':1.3723**2, 'hexane':1.3749**2, 'methanol':1.3288**2,'methylcyclohexane':1.4231**2,\n",
    "       'n-heptane':1.3878**2, 'n-pentane':1.3575**2, 'tetrahydrofuran':1.4050**2,\n",
    "       'toluene':1.4961**2, 'water':1.3328**2}\n",
    "\n",
    "def get_fingerprint(f_name,df,test_or_train,return_unmodified=False):\n",
    "    # f_name (str) = name of the fingerprint\n",
    "    # df (pandas DataFrame) = dataframe containing solvent SMILES and solvent information\n",
    "    # test_or_train (string) = 'test' or 'train' <= for reading the appropriate molfiles\n",
    "    # return_unmodified (bool) = whether to return the unmodified array\n",
    "    \"\"\" Returns the fingerprints from a pandas dataframe with a column named SMILES\"\"\"\n",
    "    if not 'SMILES' in df.columns:\n",
    "        raise Exception(\"Dataframe passed to get_fingerprint() must have 'SMILES' column\")\n",
    "    if not 'solvent' in df.columns:\n",
    "        raise Exception(\"Dataframe passed to get_fingerprint() must have 'solvent' column\")\n",
    "    #smi_string_list = list(df.SMILES)\n",
    "    if f_name == 'MORDRED':\n",
    "        mols_list = []\n",
    "        for index in range(len(df)):\n",
    "            # read SMILES\n",
    "            if test_or_train == 'train':\n",
    "                filename = './final_xtb_opt/train-'+str(df.num[index])+'.mol'\n",
    "            elif test_or_train == 'test':\n",
    "                filename = '../test/final_xtb_opt/test-'+str(df.num[index])+'.mol'\n",
    "            smi_molecule = Chem.MolFromMolFile(filename)\n",
    "            #smi_molecule = Chem.AddHs(smi_molecule)\n",
    "            #AllChem.EmbedMolecule(smi_molecule)\n",
    "            #smi_conf = smi_molecule.GetConformer()\n",
    "            # would need df.num[index]\n",
    "            #mol_block = subprocess.check_output('obabel -ixyz -omol xtbopt/train-'+str(index)+'.xyz', shell=True)\n",
    "            #mol = Chem.MolFromMolBlock(mol_block.decode(),removeHs=False)\n",
    "            #mol_conf = mol.GetConformer()\n",
    "            #for counter in range(smi_molecule.GetNumAtoms()):\n",
    "            #    smi_conf.SetAtomPosition(counter,mol_conf.GetAtomPosition(counter))\n",
    "            mols_list.append(smi_molecule)\n",
    "        calc = Calculator(descriptors,ignore_3D=False)\n",
    "        # need to suppress warnings from mordred\n",
    "        prev_stdout = sys.stdout\n",
    "        sys.stdout = io.StringIO()\n",
    "        molprop_data = calc.pandas(mols_list)\n",
    "        sys.stdout = prev_stdout\n",
    "        molprop_data = molprop_data[mordred_select_cols]\n",
    "        molprop_data['solvent_name'] = df.solvent.apply(lambda x: solvent_to_eps[x])\n",
    "        #molprop_data = molprop_data.select_dtypes(exclude=['object'])\n",
    "        init_array = molprop_data.astype(float).to_numpy()\n",
    "    elif f_name == 'NOISE': # simulate a 2048-bit fingerprint\n",
    "        num_list = [0,1,2,3,4,5,6,7,8,9,10,11,12] # to simulate fingerprints\n",
    "        init_array = np.zeros((len(df),2049),dtype=np.float64)\n",
    "        if test_or_train == 'train':\n",
    "            random.seed(800)\n",
    "        else: # this is to ensure same NOISE is generated everytime the model is called\n",
    "            random.seed(200)\n",
    "        for index in range(len(df)):\n",
    "            init_array[index,:-1] = random.choices(num_list,k=2048,weights=[400,30,5,2,1,1,1,1,0.5,0.5,0.5,0.5,0.5])\n",
    "            init_array[index,-1] = solvent_to_eps[df.loc[index,'solvent']]\n",
    "    else:\n",
    "        if f_name == 'APFP': # 2048-bit hashed APFP\n",
    "            init_array = np.zeros((len(df),2049),dtype=np.float64)\n",
    "            generator_func = GetHashedAtomPairFingerprint\n",
    "            params = [2048]\n",
    "        elif f_name == 'ECFP4': # 2048-bit hashed ECFP with radius=2\n",
    "            init_array = np.zeros((len(df),2049),dtype=np.float64)\n",
    "            generator_func = GetHashedMorganFingerprint\n",
    "            params = [2,2048]\n",
    "        elif f_name == 'ECFP6': # 2048-bit hashed ECFP with radius=3\n",
    "            init_array = np.zeros((len(df),2049),dtype=np.float64)\n",
    "            generator_func = GetHashedMorganFingerprint\n",
    "            params = [3,2048]\n",
    "        elif f_name == 'ECFP8': # 2048-bit hashed ECFP with radius=4\n",
    "            init_array = np.zeros((len(df),2049),dtype=np.float64)\n",
    "            generator_func = GetHashedMorganFingerprint\n",
    "            params = [4,2048]\n",
    "        elif f_name == 'ECFP8_4096': #4096-bit hashed ECFP with radius=4\n",
    "            init_array = np.zeros((len(df),4097),dtype=np.float64)\n",
    "            generator_func = GetHashedMorganFingerprint\n",
    "            params = [4,4096]\n",
    "        elif f_name == 'RDK': # RDK Fingerprint 2048-bit (default options)\n",
    "            init_array = np.zeros((len(df),2049),dtype=np.float64)\n",
    "            generator_func = RDKFingerprint\n",
    "            params = [1,7,2048]\n",
    "        elif f_name == 'MACCS':\n",
    "            init_array = np.zeros((len(df),168),dtype=np.float64)\n",
    "            generator_func = GetMACCSKeysFingerprint\n",
    "            params = []\n",
    "        else:\n",
    "            raise Exception('Unknown fingerprint name!')\n",
    "        # now generate the fingerprint\n",
    "        for index in range(len(df)):\n",
    "            if test_or_train == 'train':\n",
    "                filename = './final_xtb_opt/train-'+str(df.num[index])+'.mol'\n",
    "            elif test_or_train == 'test':\n",
    "                filename = '../test/final_xtb_opt/test-'+str(df.num[index])+'.mol'\n",
    "            mol = Chem.MolFromMolFile(filename)\n",
    "            if mol is None:\n",
    "                raise Exception('Error in reading SMILES')\n",
    "            init_array[index,:-1] = list(generator_func(mol,*params))\n",
    "            init_array[index,-1] = solvent_to_eps[df.loc[index,'solvent']]\n",
    "\n",
    "    if return_unmodified:\n",
    "        # return unmodified array and preprocessor\n",
    "        return init_array\n",
    "    else:\n",
    "            # calculation done, now process the data for learning\n",
    "        preprocessor = Pipeline([\n",
    "        ('variance',VarianceThreshold()),\n",
    "        ('scaler',StandardScaler()),\n",
    "        ('pca',PCA(n_components=0.95,svd_solver='full')) #select components that explain upto 95% of variation\n",
    "        #('selective_pca',ColumnTransformer(\n",
    "        #    transformers=[('pca',PCA(n_components=0.95,svd_solver='full'),[x for x in range(init_array.shape[1]-1)])],\n",
    "        #    remainder='passthrough')\n",
    "        #) only for fingerprint not solvent epsilon\n",
    "        ])\n",
    "        fin_array = preprocessor.fit_transform(init_array)\n",
    "        return fin_array, preprocessor"
   ]
  },
  {
   "cell_type": "markdown",
   "id": "6bf3ccc4",
   "metadata": {},
   "source": [
    "# Fitting models\n",
    "The package `optuna` is used for Bayesian hyperparameter optimisation (using the default tree-of-Parzen algorithm). The best results for each model and each fingerprint are stored in pickle files. The training and hyperparameter optimisation is done on training set, then the optimised model is used on the training and the test set."
   ]
  },
  {
   "cell_type": "code",
   "execution_count": 13,
   "id": "a4282f40",
   "metadata": {},
   "outputs": [],
   "source": [
    "# optimization\n",
    "import optuna\n",
    "\n",
    "# optuna prints a lot of information messages\n",
    "optuna.logging.set_verbosity(optuna.logging.WARNING)\n",
    "import warnings\n",
    "from optuna.exceptions import ExperimentalWarning"
   ]
  },
  {
   "cell_type": "code",
   "execution_count": 14,
   "id": "3ef94d30",
   "metadata": {},
   "outputs": [],
   "source": [
    "fprint_type = ['APFP','ECFP4','ECFP6','ECFP8','RDK','MACCS','MORDRED','NOISE']"
   ]
  },
  {
   "cell_type": "code",
   "execution_count": 15,
   "id": "ad780e5e",
   "metadata": {},
   "outputs": [],
   "source": [
    "# for plotting\n",
    "def running_min_val(list_of_val):\n",
    "    # goes through a list taking the minimum so far\n",
    "    min_vals = []\n",
    "    running_min = list_of_val[0]\n",
    "    min_vals.append(running_min)\n",
    "    for i in list_of_val[1:]:\n",
    "        if i < running_min:\n",
    "            running_min = i\n",
    "        min_vals.append(running_min)\n",
    "    return min_vals"
   ]
  },
  {
   "cell_type": "markdown",
   "id": "4d11fad3",
   "metadata": {},
   "source": [
    "## Simple Linear Regression (Baseline)"
   ]
  },
  {
   "cell_type": "code",
   "execution_count": 16,
   "id": "e8d347fd",
   "metadata": {
    "scrolled": false
   },
   "outputs": [
    {
     "name": "stdout",
     "output_type": "stream",
     "text": [
      "Number of features\n",
      "-------------------\n",
      "APFP : 606\n",
      "ECFP4 : 834\n",
      "ECFP6 : 890\n",
      "ECFP8 : 934\n",
      "RDK : 562\n",
      "MACCS : 78\n"
     ]
    },
    {
     "name": "stderr",
     "output_type": "stream",
     "text": [
      "100%|██████████████████████████████████████████████████████████████████████████████| 2492/2492 [05:52<00:00,  7.07it/s]\n"
     ]
    },
    {
     "name": "stdout",
     "output_type": "stream",
     "text": [
      "MORDRED : 85\n",
      "NOISE : 1366\n"
     ]
    }
   ],
   "source": [
    "# Show the number of variables (features) in each type of fingerprint\n",
    "print('Number of features')\n",
    "print('-------------------')\n",
    "for fprint in fprint_type:\n",
    "    print(fprint,':',get_fingerprint(fprint,train_data,'train')[0].shape[1])"
   ]
  },
  {
   "cell_type": "code",
   "execution_count": 17,
   "id": "d1ef10e4",
   "metadata": {},
   "outputs": [],
   "source": [
    "predictor = LinearRegression()"
   ]
  },
  {
   "cell_type": "code",
   "execution_count": 18,
   "id": "017b4308",
   "metadata": {
    "scrolled": false
   },
   "outputs": [
    {
     "name": "stdout",
     "output_type": "stream",
     "text": [
      "Average and std dev of MAEs of cross-validation (linear regression)\n",
      "----\n",
      "APFP : 0.26 (std.dev: 0.01)\n",
      "ECFP4 : 0.22 (std.dev: 0.02)\n",
      "ECFP6 : 0.20 (std.dev: 0.01)\n",
      "ECFP8 : 0.20 (std.dev: 0.01)\n",
      "RDK : 0.15 (std.dev: 0.00)\n",
      "MACCS : 0.18 (std.dev: 0.01)\n"
     ]
    },
    {
     "name": "stderr",
     "output_type": "stream",
     "text": [
      "100%|██████████████████████████████████████████████████████████████████████████████| 2492/2492 [06:07<00:00,  6.79it/s]\n"
     ]
    },
    {
     "name": "stdout",
     "output_type": "stream",
     "text": [
      "MORDRED : 0.18 (std.dev: 0.01)\n",
      "NOISE : 0.35 (std.dev: 0.01)\n"
     ]
    }
   ],
   "source": [
    "print('Average and std dev of MAEs of cross-validation (linear regression)')\n",
    "print('----')\n",
    "for fprint in fprint_type:\n",
    "    m_score = cross_val_score(\n",
    "        predictor,\n",
    "        get_fingerprint(fprint,train_data,'train')[0],\n",
    "        y_train,\n",
    "        scoring = 'neg_mean_absolute_error',\n",
    "        cv = 5,\n",
    "        error_score = 'raise'\n",
    "    )\n",
    "    print(fprint,': %.2f (std.dev: %.2f)' % (-m_score.mean(),m_score.std()))"
   ]
  },
  {
   "cell_type": "code",
   "execution_count": 19,
   "id": "6a8e491d",
   "metadata": {},
   "outputs": [
    {
     "name": "stdout",
     "output_type": "stream",
     "text": [
      "MAE and std. dev. on train data with linear regression\n",
      "----\n",
      "Before fitting : MAE = 0.236 ; std. dev. = 0.257\n",
      "APFP : MAE = 0.125 ; std. dev. = 0.169\n",
      "ECFP4 : MAE = 0.099 ; std. dev. = 0.135\n",
      "ECFP6 : MAE = 0.100 ; std. dev. = 0.135\n",
      "ECFP8 : MAE = 0.102 ; std. dev. = 0.137\n",
      "RDK : MAE = 0.106 ; std. dev. = 0.144\n",
      "MACCS : MAE = 0.172 ; std. dev. = 0.221\n"
     ]
    },
    {
     "name": "stderr",
     "output_type": "stream",
     "text": [
      "100%|██████████████████████████████████████████████████████████████████████████████| 2492/2492 [06:03<00:00,  6.86it/s]\n"
     ]
    },
    {
     "name": "stdout",
     "output_type": "stream",
     "text": [
      "MORDRED : MAE = 0.168 ; std. dev. = 0.216\n",
      "NOISE : MAE = 0.134 ; std. dev. = 0.169\n"
     ]
    }
   ],
   "source": [
    "print('MAE and std. dev. on train data with linear regression')\n",
    "print('----')\n",
    "print('Before fitting : MAE = %.3f ;'%mean_absolute_error(train_data.abs_max_ev,train_data.std_max_ev),end='')\n",
    "print(' std. dev. = %.3f'%np.std(y_train))\n",
    "for fprint in fprint_type:\n",
    "    X_train = get_fingerprint(fprint,train_data,'train')[0] # take fitted preprocessor for training data\n",
    "    predictor = LinearRegression()\n",
    "    predictor.fit(X_train,y_train)# get fitted model on training data\n",
    "    y_train_pred = predictor.predict(X_train)\n",
    "    abs_max_pred = np.array(train_data.std_max_ev) + np.array(y_train_pred)\n",
    "    print(fprint,': MAE = %.3f ;'%mean_absolute_error(train_data.abs_max_ev,abs_max_pred),end='')\n",
    "    print(' std. dev. = %.3f'%np.std(np.array(train_data.abs_max_ev)-abs_max_pred))"
   ]
  },
  {
   "cell_type": "code",
   "execution_count": 20,
   "id": "05f97528",
   "metadata": {},
   "outputs": [
    {
     "name": "stdout",
     "output_type": "stream",
     "text": [
      "MAE and std. dev. on test data with linear regression\n",
      "----\n",
      "Before fitting : MAE = 0.226 ; std. dev. = 0.261\n",
      "APFP : MAE = 0.138 ; std. dev. = 0.192\n",
      "ECFP4 : MAE = 0.105 ; std. dev. = 0.153\n",
      "ECFP6 : MAE = 0.103 ; std. dev. = 0.139\n",
      "ECFP8 : MAE = 0.108 ; std. dev. = 0.144\n",
      "RDK : MAE = 0.104 ; std. dev. = 0.146\n",
      "MACCS : MAE = 0.181 ; std. dev. = 0.232\n"
     ]
    },
    {
     "name": "stderr",
     "output_type": "stream",
     "text": [
      "100%|██████████████████████████████████████████████████████████████████████████████| 2492/2492 [06:27<00:00,  6.42it/s]\n",
      "100%|████████████████████████████████████████████████████████████████████████████████| 631/631 [01:28<00:00,  7.13it/s]\n"
     ]
    },
    {
     "name": "stdout",
     "output_type": "stream",
     "text": [
      "MORDRED : MAE = 0.169 ; std. dev. = 0.218\n",
      "NOISE : MAE = 0.248 ; std. dev. = 0.311\n"
     ]
    }
   ],
   "source": [
    "print('MAE and std. dev. on test data with linear regression')\n",
    "print('----')\n",
    "print('Before fitting : MAE = %.3f ;'%mean_absolute_error(test_data.abs_max_ev,test_data.std_max_ev),end='')\n",
    "print(' std. dev. = %.3f'%np.std(y_test))\n",
    "for fprint in fprint_type:\n",
    "    X_train, preproc = get_fingerprint(fprint,train_data,'train') # take fitted preprocessor for training data\n",
    "    X_test = preproc.transform(get_fingerprint(fprint,test_data,'test',True)) # transform unmodified fingerprints\n",
    "    predictor = LinearRegression()\n",
    "    predictor.fit(X_train,y_train)# get fitted model on training data\n",
    "    y_test_pred = predictor.predict(X_test)\n",
    "    abs_max_pred = np.array(test_data.std_max_ev) + np.array(y_test_pred)\n",
    "    print(fprint,': MAE = %.3f ;'%mean_absolute_error(test_data.abs_max_ev,abs_max_pred),end='')\n",
    "    print(' std. dev. = %.3f'%np.std(np.array(test_data.abs_max_ev)-abs_max_pred))"
   ]
  },
  {
   "cell_type": "markdown",
   "id": "0b0663d5",
   "metadata": {},
   "source": [
    "# SVM"
   ]
  },
  {
   "cell_type": "code",
   "execution_count": 16,
   "id": "8ab45764",
   "metadata": {},
   "outputs": [
    {
     "data": {
      "application/vnd.jupyter.widget-view+json": {
       "model_id": "702e853bb5c940cbba2ea9cf67849890",
       "version_major": 2,
       "version_minor": 0
      },
      "text/plain": [
       "  0%|          | 0/60 [00:00<?, ?it/s]"
      ]
     },
     "metadata": {},
     "output_type": "display_data"
    },
    {
     "data": {
      "application/vnd.jupyter.widget-view+json": {
       "model_id": "67e222d39a524a49a29cd6c8810473ac",
       "version_major": 2,
       "version_minor": 0
      },
      "text/plain": [
       "  0%|          | 0/60 [00:00<?, ?it/s]"
      ]
     },
     "metadata": {},
     "output_type": "display_data"
    },
    {
     "data": {
      "application/vnd.jupyter.widget-view+json": {
       "model_id": "42a35fa9d6b8406384259a8bb39130da",
       "version_major": 2,
       "version_minor": 0
      },
      "text/plain": [
       "  0%|          | 0/60 [00:00<?, ?it/s]"
      ]
     },
     "metadata": {},
     "output_type": "display_data"
    },
    {
     "data": {
      "application/vnd.jupyter.widget-view+json": {
       "model_id": "3e82e205754a421b96e14fd04d1eb900",
       "version_major": 2,
       "version_minor": 0
      },
      "text/plain": [
       "  0%|          | 0/60 [00:00<?, ?it/s]"
      ]
     },
     "metadata": {},
     "output_type": "display_data"
    },
    {
     "data": {
      "application/vnd.jupyter.widget-view+json": {
       "model_id": "3c8a67339a604d44b30105f44c3c4bc1",
       "version_major": 2,
       "version_minor": 0
      },
      "text/plain": [
       "  0%|          | 0/60 [00:00<?, ?it/s]"
      ]
     },
     "metadata": {},
     "output_type": "display_data"
    },
    {
     "data": {
      "application/vnd.jupyter.widget-view+json": {
       "model_id": "3e81e1c54c4c486f96873e41f5b02135",
       "version_major": 2,
       "version_minor": 0
      },
      "text/plain": [
       "  0%|          | 0/60 [00:00<?, ?it/s]"
      ]
     },
     "metadata": {},
     "output_type": "display_data"
    },
    {
     "name": "stderr",
     "output_type": "stream",
     "text": [
      "100%|██████████████████████████████████████████████████████████████████████████████| 2495/2495 [05:59<00:00,  6.94it/s]\n"
     ]
    },
    {
     "data": {
      "application/vnd.jupyter.widget-view+json": {
       "model_id": "ac0812ca29f64b0f9f4a9f7e4a98b440",
       "version_major": 2,
       "version_minor": 0
      },
      "text/plain": [
       "  0%|          | 0/60 [00:00<?, ?it/s]"
      ]
     },
     "metadata": {},
     "output_type": "display_data"
    },
    {
     "data": {
      "application/vnd.jupyter.widget-view+json": {
       "model_id": "4862b550603d43baa1c9004e265725c8",
       "version_major": 2,
       "version_minor": 0
      },
      "text/plain": [
       "  0%|          | 0/60 [00:00<?, ?it/s]"
      ]
     },
     "metadata": {},
     "output_type": "display_data"
    }
   ],
   "source": [
    "svm_best_params = {} # dict to store best params for each fingerprint\n",
    "svm_error_values = {} # dict to store the error value with each trial iteration\n",
    "svm_std_devs = {} # dict to store the std. deviations for each trial iteration\n",
    "for fprint in fprint_type:\n",
    "    X_train = get_fingerprint(fprint,train_data,'train')[0]\n",
    "    svm_std_devs[fprint] = []\n",
    "    wrapper_func = lambda trial : get_model(trial,'svm',X_train,y_train,svm_std_devs[fprint])\n",
    "    study = optuna.create_study()\n",
    "    with warnings.catch_warnings():\n",
    "        warnings.filterwarnings(action='ignore',category=ExperimentalWarning)\n",
    "        study.optimize(wrapper_func,n_trials=60,show_progress_bar=True)\n",
    "    svm_best_params[fprint] = study.best_trial\n",
    "    svm_error_values[fprint] = list(study.trials_dataframe()['value'])"
   ]
  },
  {
   "cell_type": "code",
   "execution_count": 16,
   "id": "cc3a0e23",
   "metadata": {},
   "outputs": [],
   "source": [
    "# save into pickle\n",
    "#with open('svm_results_xtb.pkl', 'wb') as fh:\n",
    "#    pickle.dump((svm_best_params,svm_error_values,svm_std_devs),fh,pickle.HIGHEST_PROTOCOL)\n",
    "# reload pickle if needed\n",
    "#with open('svm_results_xtb.pkl', 'rb') as fh:\n",
    "#    svm_best_params,svm_error_values,svm_std_devs = pickle.load(fh)#"
   ]
  },
  {
   "cell_type": "code",
   "execution_count": 24,
   "id": "c3344726",
   "metadata": {},
   "outputs": [
    {
     "name": "stdout",
     "output_type": "stream",
     "text": [
      "Best MAEs of cross-validation training (SVM)\n",
      "----\n",
      "APFP : 0.154 (std.dev: 0.010)\n",
      "ECFP4 : 0.142 (std.dev: 0.007)\n",
      "ECFP6 : 0.141 (std.dev: 0.005)\n",
      "ECFP8 : 0.147 (std.dev: 0.007)\n",
      "RDK : 0.124 (std.dev: 0.008)\n",
      "MACCS : 0.156 (std.dev: 0.006)\n",
      "MORDRED : 0.152 (std.dev: 0.007)\n",
      "NOISE : 0.213 (std.dev: 0.007)\n"
     ]
    }
   ],
   "source": [
    "print('Best MAEs of cross-validation training (SVM)')\n",
    "print('----')\n",
    "for fprint in fprint_type:\n",
    "    min_index = np.argmin(svm_error_values[fprint])\n",
    "    best_mae = svm_error_values[fprint][min_index]\n",
    "    best_std = svm_std_devs[fprint][min_index]\n",
    "    print(fprint,': %.3f (std.dev: %.3f)' % (best_mae,best_std))"
   ]
  },
  {
   "cell_type": "code",
   "execution_count": 21,
   "id": "df77d4f7",
   "metadata": {},
   "outputs": [
    {
     "data": {
      "image/png": "[encoded data removed]",
      "text/plain": [
       "<Figure size 432x288 with 1 Axes>"
      ]
     },
     "metadata": {
      "needs_background": "light"
     },
     "output_type": "display_data"
    }
   ],
   "source": [
    "# For plotting\n",
    "for fprint in fprint_type:\n",
    "    this_running_errors = running_min_val(svm_error_values[fprint])\n",
    "    plt.plot(this_running_errors,label=fprint)\n",
    "plt.legend(loc='upper right',ncol=2,fontsize='large')\n",
    "plt.tick_params(labelsize='large')\n",
    "plt.xlim(left=0,right=60)\n",
    "plt.ylim(top=0.35)\n",
    "plt.xlabel('Number of calls (optimiser)',fontsize='x-large')\n",
    "plt.ylabel('Best avg. MAE of\\n cross-validation to $\\Delta E$ / eV',fontsize='x-large')\n",
    "plt.title('Support Vector Machine',fontsize='x-large')\n",
    "#plt.savefig('SVM-optimisation.png',bbox_inches='tight',dpi=512)\n",
    "plt.show()"
   ]
  },
  {
   "cell_type": "code",
   "execution_count": 20,
   "id": "efff0ba2",
   "metadata": {},
   "outputs": [
    {
     "name": "stdout",
     "output_type": "stream",
     "text": [
      "MAE and std. dev. on training data\n",
      "----\n",
      "Before fitting : MAE = 0.236 ; std. dev. = 0.257\n",
      "APFP : MAE = 0.078 ; std. dev. = 0.144\n",
      "ECFP4 : MAE = 0.047 ; std. dev. = 0.097\n",
      "ECFP6 : MAE = 0.030 ; std. dev. = 0.085\n",
      "ECFP8 : MAE = 0.081 ; std. dev. = 0.134\n",
      "RDK : MAE = 0.040 ; std. dev. = 0.091\n",
      "MACCS : MAE = 0.067 ; std. dev. = 0.080\n"
     ]
    },
    {
     "name": "stderr",
     "output_type": "stream",
     "text": [
      "100%|██████████████████████████████████████████████████████████████████████████████| 2492/2492 [05:51<00:00,  7.09it/s]\n"
     ]
    },
    {
     "name": "stdout",
     "output_type": "stream",
     "text": [
      "MORDRED : MAE = 0.107 ; std. dev. = 0.161\n",
      "NOISE : MAE = 0.063 ; std. dev. = 0.117\n"
     ]
    }
   ],
   "source": [
    "print('MAE and std. dev. on training data')\n",
    "print('----')\n",
    "print('Before fitting : MAE = %.3f ;'%mean_absolute_error(train_data.abs_max_ev,train_data.std_max_ev),end='')\n",
    "print(' std. dev. = %.3f'%np.std(y_train))\n",
    "for fprint in fprint_type:\n",
    "    X_train = get_fingerprint(fprint,train_data,'train')[0] # get training data (preprocessed)\n",
    "    # the best parameters are passed to get_model()\n",
    "    predictor = get_model(svm_best_params[fprint],'svm',X_train,y_train,[],True) # get fitted model on training data\n",
    "    y_train_pred = predictor.predict(X_train)\n",
    "    abs_max_pred = np.array(train_data.std_max_ev) + np.array(y_train_pred)\n",
    "    print(fprint,': MAE = %.3f ;'%mean_absolute_error(train_data.abs_max_ev,abs_max_pred),end='')\n",
    "    print(' std. dev. = %.3f'%np.std(np.array(train_data.abs_max_ev)-abs_max_pred))"
   ]
  },
  {
   "cell_type": "code",
   "execution_count": 23,
   "id": "0ed12d40",
   "metadata": {
    "scrolled": true
   },
   "outputs": [
    {
     "name": "stdout",
     "output_type": "stream",
     "text": [
      "MAE and std. dev. on test data\n",
      "----\n",
      "Before fitting : MAE = 0.226 ; std. dev. = 0.261\n",
      "APFP : MAE = 0.089 ; std. dev. = 0.155\n",
      "ECFP4 : MAE = 0.055 ; std. dev. = 0.105\n",
      "ECFP6 : MAE = 0.044 ; std. dev. = 0.098\n",
      "ECFP8 : MAE = 0.086 ; std. dev. = 0.131\n",
      "RDK : MAE = 0.049 ; std. dev. = 0.099\n",
      "MACCS : MAE = 0.079 ; std. dev. = 0.109\n"
     ]
    },
    {
     "name": "stderr",
     "output_type": "stream",
     "text": [
      "100%|██████████████████████████████████████████████████████████████████████████████| 2492/2492 [05:53<00:00,  7.05it/s]\n",
      "100%|████████████████████████████████████████████████████████████████████████████████| 631/631 [01:25<00:00,  7.34it/s]\n"
     ]
    },
    {
     "name": "stdout",
     "output_type": "stream",
     "text": [
      "MORDRED : MAE = 0.122 ; std. dev. = 0.176\n",
      "NOISE : MAE = 0.213 ; std. dev. = 0.261\n"
     ]
    }
   ],
   "source": [
    "print('MAE and std. dev. on test data')\n",
    "print('----')\n",
    "print('Before fitting : MAE = %.3f ;'%mean_absolute_error(test_data.abs_max_ev,test_data.std_max_ev),end='')\n",
    "print(' std. dev. = %.3f'%np.std(y_test))\n",
    "for fprint in fprint_type:\n",
    "    X_train, preproc = get_fingerprint(fprint,train_data,'train') # take fitted preprocessor for training data\n",
    "    X_test = preproc.transform(get_fingerprint(fprint,test_data,'test',True)) # transform unmodified fingerprints\n",
    "    predictor = get_model(svm_best_params[fprint],'svm',X_train,y_train,[],True) # get fitted model on training data\n",
    "    y_test_pred = predictor.predict(X_test)\n",
    "    abs_max_pred = np.array(test_data.std_max_ev) + np.array(y_test_pred)\n",
    "    print(fprint,': MAE = %.3f ;'%mean_absolute_error(test_data.abs_max_ev,abs_max_pred),end='')\n",
    "    print(' std. dev. = %.3f'%np.std(np.array(test_data.abs_max_ev)-abs_max_pred))"
   ]
  },
  {
   "cell_type": "code",
   "execution_count": 17,
   "id": "8385a46d",
   "metadata": {},
   "outputs": [],
   "source": [
    "# ECFP6 with SVM is the best data, so we plot that\n",
    "X_train, preproc = get_fingerprint('ECFP6',train_data,'train') # take fitted preprocessor for training data\n",
    "X_test = preproc.transform(get_fingerprint('ECFP6',test_data,'test',True)) # transform unmodified fingerprints\n",
    "predictor = get_model(svm_best_params['ECFP6'],'svm',X_train,y_train,[],True)\n",
    "y_test_pred = predictor.predict(X_test)\n",
    "abs_max_pred = np.array(test_data.std_max_ev) + np.array(y_test_pred)"
   ]
  },
  {
   "cell_type": "code",
   "execution_count": 18,
   "id": "faab569e",
   "metadata": {
    "scrolled": false
   },
   "outputs": [
    {
     "name": "stdout",
     "output_type": "stream",
     "text": [
      "Before fitting: MAE = 0.226\n",
      "                std. dev. = 0.261\n",
      "After corrections: MAE = 0.044\n",
      "                   std. dev. = 0.098\n"
     ]
    },
    {
     "data": {
      "image/png": "[encoded data removed]",
      "text/plain": [
       "<Figure size 792x338.4 with 2 Axes>"
      ]
     },
     "metadata": {
      "needs_background": "light"
     },
     "output_type": "display_data"
    }
   ],
   "source": [
    "# print stats\n",
    "MAE_before = mean_absolute_error(test_data.abs_max_ev,test_data.std_max_ev)\n",
    "STD_before = np.std(y_test)\n",
    "MAE_after = mean_absolute_error(test_data.abs_max_ev,abs_max_pred)\n",
    "STD_after = np.std(np.array(test_data.abs_max_ev)-abs_max_pred)\n",
    "print('Before fitting: MAE = %.3f'%MAE_before)\n",
    "print('                std. dev. = %.3f'%STD_before)\n",
    "print('After corrections: MAE = %.3f'%MAE_after)\n",
    "print('                   std. dev. = %.3f'%STD_after)\n",
    "# now plot the results\n",
    "fig, (ax1,ax2) = plt.subplots(1,2,figsize=(11,4.7))\n",
    "ax1.plot(test_data.abs_max_ev,test_data.std_max_ev,'.')\n",
    "ax1.plot(test_data.abs_max_ev,plot_regression_ys(test_data.abs_max_ev,test_data.std_max_ev))\n",
    "ax1.set_xlabel('$E_\\mathrm{max}$/eV (exp.)',fontsize='x-large')\n",
    "ax1.set_ylabel('$E_\\mathrm{max}$/eV (sTD-xTB)',fontsize='x-large')\n",
    "ax1.tick_params(labelsize='large')\n",
    "ax1.set_title('Original test data',fontsize='xx-large')\n",
    "ax1.annotate(\"MAE = %.3f\"%MAE_before,(0.2,0.8),fontsize='large',xycoords='axes fraction')\n",
    "ax1.annotate(\"Std. dev. = %.3f\"%STD_before,(0.2,0.73),fontsize='large',xycoords='axes fraction')\n",
    "\n",
    "ax2.plot(test_data.abs_max_ev,abs_max_pred,'.')\n",
    "ax2.plot(test_data.abs_max_ev,plot_regression_ys(test_data.abs_max_ev,abs_max_pred))\n",
    "ax2.set_xlabel('$E_\\mathrm{max}$/eV (exp.)',fontsize='x-large')\n",
    "ax2.set_ylabel('$E_\\mathrm{max}$/eV (sTD-xTB + SVM/ECFP6)',fontsize='x-large')\n",
    "ax2.tick_params(labelsize='large')\n",
    "ax2.set_title('After adding ML corrections',fontsize='xx-large')\n",
    "ax2.annotate(\"MAE = %.3f\"%MAE_after,(0.2,0.8),fontsize='large',xycoords='axes fraction')\n",
    "ax2.annotate(\"Std. dev. = %.3f\"%STD_after,(0.2,0.73),fontsize='large',xycoords='axes fraction')\n",
    "plt.tight_layout()\n",
    "#plt.savefig('SVM-ECFP6-eV.png',bbox_inches='tight',dpi=512)\n",
    "plt.show()"
   ]
  },
  {
   "cell_type": "markdown",
   "id": "ce35c646",
   "metadata": {},
   "source": [
    "### Analysis of outliers"
   ]
  },
  {
   "cell_type": "code",
   "execution_count": 22,
   "id": "caa13514",
   "metadata": {},
   "outputs": [],
   "source": [
    "import rdkit.Chem.Draw\n",
    "from rdkit import DataStructs\n",
    "# pick the outliers from SVM/ECFP6\n",
    "test_data['svm_ecfp6_pred'] = abs_max_pred\n",
    "test_data['diff_svm_exp'] = test_data.svm_ecfp6_pred - test_data.abs_max_ev\n",
    "# sort according to the difference and then select the top 20 with the highest errors and get their SMILES\n",
    "outliers = test_data[abs(test_data.diff_svm_exp)>0.2].copy().sort_values('diff_svm_exp',ascending=False).iloc[:20]\n",
    "smi_outliers = list(outliers.sort_values('diff_svm_exp',ascending=False).iloc[:20].SMILES)\n",
    "mols_outliers = [Chem.MolFromSmiles(x) for x in smi_outliers]"
   ]
  },
  {
   "cell_type": "code",
   "execution_count": 21,
   "id": "ba5898d3",
   "metadata": {
    "scrolled": false
   },
   "outputs": [
    {
     "data": {
      "image/png": "[encoded data removed]",
      "text/plain": [
       "<IPython.core.display.Image object>"
      ]
     },
     "execution_count": 21,
     "metadata": {},
     "output_type": "execute_result"
    }
   ],
   "source": [
    "# draw 9 outliers\n",
    "rdkit.Chem.Draw.MolsToGridImage(mols_outliers[:9],subImgSize=(300,300)) # => can't see any trend ???"
   ]
  },
  {
   "cell_type": "code",
   "execution_count": 41,
   "id": "7599bfde",
   "metadata": {},
   "outputs": [
    {
     "data": {
      "text/plain": [
       "['CCCCN1C(=O)c2cccc3c(OC)ccc(c23)C1=O',\n",
       " 'COc1cc(C)c2c(c1C)OC(=O)c1c(C)c(Cl)c(O)c(Cl)c1O2',\n",
       " 'O=[N+]([O-])c1ccc(O)c(O)c1',\n",
       " 'CCCCN1C(=S)c2cccc3c(N(C)C)ccc(c23)C1=S',\n",
       " 'CCN(CC)c1ccc(/N=N/c2cc3c(=O)[nH][nH]c(=O)c3cc2[N+](=O)[O-])c(NC(C)=O)c1',\n",
       " 'Nc1cc2nc3cc(Cl)c(Cl)cc3nc2cc1N',\n",
       " 'CCCCc1cc(-c2cccc(COC)c2)oc1-c1cccc(-c2oc(-c3cccc(COC)c3)cc2CCCC)c1',\n",
       " 'CCOC(=O)CSc1nc2c(c(C#N)c1C#N)CCCC2',\n",
       " 'C/C(=C\\\\c1ccc(C)cc1)c1nc2ccccc2s1',\n",
       " 'CCN(CC)c1ccc(-c2nc(Oc3ccc(-c4nc5ccc(Cl)cc5o4)cc3)nc(Oc3ccc(-c4nc5ccc(Cl)cc5o4)cc3)n2)cc1',\n",
       " 'C/C(=C\\\\c1ccc(Cl)cc1)c1nc2ccccc2s1',\n",
       " 'N#C/C(=C\\\\c1ccc(Cl)cc1)c1nc2ccccc2s1',\n",
       " 'O=[N+]([O-])c1ccccc1O',\n",
       " 'Nc1nc2ccc(F)cc2[n+]([O-])n1',\n",
       " 'Oc1ccccc1-c1nc2c(c3c1-c1ccccc1CC3)-c1ccccc1CC2',\n",
       " 'Oc1cccc(/N=C/c2ccccc2Oc2ccccc2)c1',\n",
       " 'Cc1cc(C)nc(N)n1',\n",
       " 'F[B-]1(F)OC(c2ccccc2)=C(c2ccccc2)c2sc3ccccc3[n+]21',\n",
       " 'CCNc1ccc2c(C(F)(F)F)cc(=O)oc2c1',\n",
       " 'O=c1oc2ccccc2nc1-c1ccc(Cl)cc1']"
      ]
     },
     "execution_count": 41,
     "metadata": {},
     "output_type": "execute_result"
    }
   ],
   "source": [
    "smi_outliers"
   ]
  },
  {
   "cell_type": "code",
   "execution_count": 42,
   "id": "ed939036",
   "metadata": {},
   "outputs": [],
   "source": [
    "similarity_array = np.zeros((len(mols_outliers),len(mols_outliers)),dtype=np.float64)\n",
    "for i in range(similarity_array.shape[0]):\n",
    "    for j in range(similarity_array.shape[1]):\n",
    "        fp_a = GetHashedMorganFingerprint(mols_outliers[i],3)\n",
    "        fp_b = GetHashedMorganFingerprint(mols_outliers[j],3)\n",
    "        similarity_array[i,j] = DataStructs.DiceSimilarity(fp_a,fp_b)\n",
    "pd.DataFrame(similarity_array)"
   ]
  },
  {
   "cell_type": "markdown",
   "id": "63301297",
   "metadata": {},
   "source": [
    "## Lasso"
   ]
  },
  {
   "cell_type": "code",
   "execution_count": 16,
   "id": "3adccc89",
   "metadata": {
    "scrolled": false
   },
   "outputs": [
    {
     "data": {
      "application/vnd.jupyter.widget-view+json": {
       "model_id": "4ad449d677564cf48d70c88166b8bfeb",
       "version_major": 2,
       "version_minor": 0
      },
      "text/plain": [
       "  0%|          | 0/60 [00:00<?, ?it/s]"
      ]
     },
     "metadata": {},
     "output_type": "display_data"
    },
    {
     "data": {
      "application/vnd.jupyter.widget-view+json": {
       "model_id": "a998e2bc245c46339c08360f7c00fb34",
       "version_major": 2,
       "version_minor": 0
      },
      "text/plain": [
       "  0%|          | 0/60 [00:00<?, ?it/s]"
      ]
     },
     "metadata": {},
     "output_type": "display_data"
    },
    {
     "data": {
      "application/vnd.jupyter.widget-view+json": {
       "model_id": "5e23367d8298497caff6465b6e6f5cbe",
       "version_major": 2,
       "version_minor": 0
      },
      "text/plain": [
       "  0%|          | 0/60 [00:00<?, ?it/s]"
      ]
     },
     "metadata": {},
     "output_type": "display_data"
    },
    {
     "data": {
      "application/vnd.jupyter.widget-view+json": {
       "model_id": "521978cde7ae49fe87f7d5132f649cd4",
       "version_major": 2,
       "version_minor": 0
      },
      "text/plain": [
       "  0%|          | 0/60 [00:00<?, ?it/s]"
      ]
     },
     "metadata": {},
     "output_type": "display_data"
    },
    {
     "data": {
      "application/vnd.jupyter.widget-view+json": {
       "model_id": "cc84fa31000f4129b38acb80771a4ef7",
       "version_major": 2,
       "version_minor": 0
      },
      "text/plain": [
       "  0%|          | 0/60 [00:00<?, ?it/s]"
      ]
     },
     "metadata": {},
     "output_type": "display_data"
    },
    {
     "data": {
      "application/vnd.jupyter.widget-view+json": {
       "model_id": "c27de408844545cba3a21f136d1b7ce4",
       "version_major": 2,
       "version_minor": 0
      },
      "text/plain": [
       "  0%|          | 0/60 [00:00<?, ?it/s]"
      ]
     },
     "metadata": {},
     "output_type": "display_data"
    },
    {
     "name": "stderr",
     "output_type": "stream",
     "text": [
      "100%|██████████████████████████████████████████████████████████████████████████████| 2495/2495 [05:59<00:00,  6.94it/s]\n"
     ]
    },
    {
     "data": {
      "application/vnd.jupyter.widget-view+json": {
       "model_id": "dfd02e0d1a864956b7de081b18241a90",
       "version_major": 2,
       "version_minor": 0
      },
      "text/plain": [
       "  0%|          | 0/60 [00:00<?, ?it/s]"
      ]
     },
     "metadata": {},
     "output_type": "display_data"
    },
    {
     "data": {
      "application/vnd.jupyter.widget-view+json": {
       "model_id": "35c9ffcaf07d4e08930ad8332d0f8433",
       "version_major": 2,
       "version_minor": 0
      },
      "text/plain": [
       "  0%|          | 0/60 [00:00<?, ?it/s]"
      ]
     },
     "metadata": {},
     "output_type": "display_data"
    }
   ],
   "source": [
    "lasso_best_params = {} # dict to store best params for each fingerprint\n",
    "lasso_error_values = {} # dict to store the error value with each trial iteration\n",
    "lasso_std_devs = {} # dict to store the std. deviations for each trial iteration\n",
    "for fprint in fprint_type:\n",
    "    X_train = get_fingerprint(fprint,train_data,'train')[0]\n",
    "    lasso_std_devs[fprint] = []\n",
    "    wrapper_func = lambda trial : get_model(trial,'lasso',X_train,y_train,lasso_std_devs[fprint])\n",
    "    study = optuna.create_study()\n",
    "    with warnings.catch_warnings():\n",
    "        warnings.filterwarnings(action='ignore',category=ExperimentalWarning)\n",
    "        study.optimize(wrapper_func,n_trials=60,show_progress_bar=True)\n",
    "    lasso_best_params[fprint] = study.best_trial\n",
    "    lasso_error_values[fprint] = list(study.trials_dataframe()['value'])"
   ]
  },
  {
   "cell_type": "code",
   "execution_count": 26,
   "id": "d3b34a80",
   "metadata": {},
   "outputs": [],
   "source": [
    "# save\n",
    "#with open('lasso_results_xtb.pkl', 'wb') as fh:\n",
    "#    pickle.dump((lasso_best_params,lasso_error_values,lasso_std_devs),fh,pickle.HIGHEST_PROTOCOL)\n",
    "# reload\n",
    "#with open('lasso_results_xtb.pkl', 'rb') as fh:\n",
    "#    lasso_best_params,lasso_error_values,lasso_std_devs = pickle.load(fh)"
   ]
  },
  {
   "cell_type": "code",
   "execution_count": 27,
   "id": "62f591f4",
   "metadata": {},
   "outputs": [
    {
     "name": "stdout",
     "output_type": "stream",
     "text": [
      "Best MAEs of cross-validation training (Lasso)\n",
      "----\n",
      "APFP : 0.173 (std.dev: 0.008)\n",
      "ECFP4 : 0.158 (std.dev: 0.005)\n",
      "ECFP6 : 0.156 (std.dev: 0.004)\n",
      "ECFP8 : 0.161 (std.dev: 0.008)\n",
      "RDK : 0.146 (std.dev: 0.005)\n",
      "MACCS : 0.184 (std.dev: 0.008)\n",
      "MORDRED : 0.179 (std.dev: 0.009)\n",
      "NOISE : 0.214 (std.dev: 0.006)\n"
     ]
    }
   ],
   "source": [
    "print('Best MAEs of cross-validation training (Lasso)')\n",
    "print('----')\n",
    "for fprint in fprint_type:\n",
    "    min_index = np.argmin(lasso_error_values[fprint])\n",
    "    best_mae = lasso_error_values[fprint][min_index]\n",
    "    best_std = lasso_std_devs[fprint][min_index]\n",
    "    print(fprint,': %.3f (std.dev: %.3f)' % (best_mae,best_std))"
   ]
  },
  {
   "cell_type": "code",
   "execution_count": 28,
   "id": "fabf5f73",
   "metadata": {
    "scrolled": true
   },
   "outputs": [
    {
     "data": {
      "image/png": "[encoded data removed]",
      "text/plain": [
       "<Figure size 432x288 with 1 Axes>"
      ]
     },
     "metadata": {
      "needs_background": "light"
     },
     "output_type": "display_data"
    }
   ],
   "source": [
    "# For plotting\n",
    "for fprint in fprint_type:\n",
    "    this_running_errors = running_min_val(lasso_error_values[fprint])\n",
    "    plt.plot(this_running_errors,label=fprint)\n",
    "plt.legend(loc='upper right',ncol=2)\n",
    "plt.tick_params(labelsize='large')\n",
    "plt.xlim(left=0,right=60)\n",
    "plt.ylim(top=0.3)\n",
    "plt.xlabel('number of iterations',fontsize='x-large')\n",
    "plt.ylabel('MAE of fitting to $\\Delta E$ (nm)',fontsize='x-large')\n",
    "plt.title('Lasso',fontsize='xx-large')\n",
    "plt.show()"
   ]
  },
  {
   "cell_type": "code",
   "execution_count": 29,
   "id": "866cfdaf",
   "metadata": {},
   "outputs": [
    {
     "name": "stdout",
     "output_type": "stream",
     "text": [
      "MAE and std. dev. on training data\n",
      "----\n",
      "Before fitting : MAE = 0.236 ; std. dev. = 0.257\n",
      "APFP : MAE = 0.137 ; std. dev. = 0.183\n",
      "ECFP4 : MAE = 0.119 ; std. dev. = 0.159\n",
      "ECFP6 : MAE = 0.121 ; std. dev. = 0.162\n",
      "ECFP8 : MAE = 0.128 ; std. dev. = 0.171\n",
      "RDK : MAE = 0.115 ; std. dev. = 0.154\n",
      "MACCS : MAE = 0.173 ; std. dev. = 0.222\n"
     ]
    },
    {
     "name": "stderr",
     "output_type": "stream",
     "text": [
      "100%|██████████████████████████████████████████████████████████████████████████████| 2492/2492 [06:03<00:00,  6.85it/s]\n"
     ]
    },
    {
     "name": "stdout",
     "output_type": "stream",
     "text": [
      "MORDRED : MAE = 0.168 ; std. dev. = 0.216\n",
      "NOISE : MAE = 0.207 ; std. dev. = 0.257\n"
     ]
    }
   ],
   "source": [
    "print('MAE and std. dev. on training data')\n",
    "print('----')\n",
    "print('Before fitting : MAE = %.3f ;'%mean_absolute_error(train_data.abs_max_ev,train_data.std_max_ev),end='')\n",
    "print(' std. dev. = %.3f'%np.std(y_train))\n",
    "for fprint in fprint_type:\n",
    "    X_train = get_fingerprint(fprint,train_data,'train')[0] # get training data (preprocessed)\n",
    "    # the best parameters are passed to get_model()\n",
    "    predictor = get_model(lasso_best_params[fprint],'lasso',X_train,y_train,[],True) #get fitted model on training data\n",
    "    y_train_pred = predictor.predict(X_train)\n",
    "    abs_max_pred = np.array(train_data.std_max_ev) + np.array(y_train_pred)\n",
    "    print(fprint,': MAE = %.3f ;'%mean_absolute_error(train_data.abs_max_ev,abs_max_pred),end='')\n",
    "    print(' std. dev. = %.3f'%np.std(np.array(train_data.abs_max_ev)-abs_max_pred))"
   ]
  },
  {
   "cell_type": "code",
   "execution_count": 30,
   "id": "396e4627",
   "metadata": {},
   "outputs": [
    {
     "name": "stdout",
     "output_type": "stream",
     "text": [
      "MAE and std. dev. on test data\n",
      "----\n",
      "Before fitting : MAE = 0.226 ; std. dev. = 0.261\n",
      "APFP : MAE = 0.145 ; std. dev. = 0.190\n",
      "ECFP4 : MAE = 0.118 ; std. dev. = 0.161\n",
      "ECFP6 : MAE = 0.119 ; std. dev. = 0.157\n",
      "ECFP8 : MAE = 0.126 ; std. dev. = 0.167\n",
      "RDK : MAE = 0.110 ; std. dev. = 0.151\n",
      "MACCS : MAE = 0.182 ; std. dev. = 0.231\n"
     ]
    },
    {
     "name": "stderr",
     "output_type": "stream",
     "text": [
      "100%|██████████████████████████████████████████████████████████████████████████████| 2492/2492 [05:51<00:00,  7.09it/s]\n",
      "100%|████████████████████████████████████████████████████████████████████████████████| 631/631 [01:20<00:00,  7.83it/s]\n"
     ]
    },
    {
     "name": "stdout",
     "output_type": "stream",
     "text": [
      "MORDRED : MAE = 0.169 ; std. dev. = 0.218\n",
      "NOISE : MAE = 0.211 ; std. dev. = 0.261\n"
     ]
    }
   ],
   "source": [
    "print('MAE and std. dev. on test data')\n",
    "print('----')\n",
    "print('Before fitting : MAE = %.3f ;'%mean_absolute_error(test_data.abs_max_ev,test_data.std_max_ev),end='')\n",
    "print(' std. dev. = %.3f'%np.std(y_test))\n",
    "for fprint in fprint_type:\n",
    "    X_train, preproc = get_fingerprint(fprint,train_data,'train') # take fitted preprocessor for training data\n",
    "    X_test = preproc.transform(get_fingerprint(fprint,test_data,'test',True)) # transform unmodified fingerprints\n",
    "    predictor = get_model(lasso_best_params[fprint],'lasso',X_train,y_train,[],True) #get fitted model on training dat\n",
    "    y_test_pred = predictor.predict(X_test)\n",
    "    abs_max_pred = np.array(test_data.std_max_ev) + np.array(y_test_pred)\n",
    "    print(fprint,': MAE = %.3f ;'%mean_absolute_error(test_data.abs_max_ev,abs_max_pred),end='')\n",
    "    print(' std. dev. = %.3f'%np.std(np.array(test_data.abs_max_ev)-abs_max_pred))"
   ]
  },
  {
   "cell_type": "markdown",
   "id": "fe69e1b5",
   "metadata": {},
   "source": [
    "## Multi-Layer Perceptron"
   ]
  },
  {
   "cell_type": "code",
   "execution_count": 18,
   "id": "ae77b29c",
   "metadata": {},
   "outputs": [
    {
     "data": {
      "application/vnd.jupyter.widget-view+json": {
       "model_id": "3b7289214783465caded9e866de6957e",
       "version_major": 2,
       "version_minor": 0
      },
      "text/plain": [
       "  0%|          | 0/60 [00:00<?, ?it/s]"
      ]
     },
     "metadata": {},
     "output_type": "display_data"
    },
    {
     "data": {
      "application/vnd.jupyter.widget-view+json": {
       "model_id": "abdc409561dd408ebeeb9b5c470ea10a",
       "version_major": 2,
       "version_minor": 0
      },
      "text/plain": [
       "  0%|          | 0/60 [00:00<?, ?it/s]"
      ]
     },
     "metadata": {},
     "output_type": "display_data"
    },
    {
     "data": {
      "application/vnd.jupyter.widget-view+json": {
       "model_id": "2d5cb4c4896142fd968c267f73dcd991",
       "version_major": 2,
       "version_minor": 0
      },
      "text/plain": [
       "  0%|          | 0/60 [00:00<?, ?it/s]"
      ]
     },
     "metadata": {},
     "output_type": "display_data"
    },
    {
     "data": {
      "application/vnd.jupyter.widget-view+json": {
       "model_id": "6f621df256924e0eb626cb084477551b",
       "version_major": 2,
       "version_minor": 0
      },
      "text/plain": [
       "  0%|          | 0/60 [00:00<?, ?it/s]"
      ]
     },
     "metadata": {},
     "output_type": "display_data"
    },
    {
     "data": {
      "application/vnd.jupyter.widget-view+json": {
       "model_id": "75c92794ac6d418c8d9a5db11c8a7443",
       "version_major": 2,
       "version_minor": 0
      },
      "text/plain": [
       "  0%|          | 0/60 [00:00<?, ?it/s]"
      ]
     },
     "metadata": {},
     "output_type": "display_data"
    },
    {
     "data": {
      "application/vnd.jupyter.widget-view+json": {
       "model_id": "a29af37e93044f15a84fe41b11cd511b",
       "version_major": 2,
       "version_minor": 0
      },
      "text/plain": [
       "  0%|          | 0/60 [00:00<?, ?it/s]"
      ]
     },
     "metadata": {},
     "output_type": "display_data"
    },
    {
     "name": "stderr",
     "output_type": "stream",
     "text": [
      "100%|██████████████████████████████████████████████████████████████████████████████| 2495/2495 [06:01<00:00,  6.90it/s]\n"
     ]
    },
    {
     "data": {
      "application/vnd.jupyter.widget-view+json": {
       "model_id": "89e7c5622b724382ab7e1bd5399d1168",
       "version_major": 2,
       "version_minor": 0
      },
      "text/plain": [
       "  0%|          | 0/60 [00:00<?, ?it/s]"
      ]
     },
     "metadata": {},
     "output_type": "display_data"
    },
    {
     "data": {
      "application/vnd.jupyter.widget-view+json": {
       "model_id": "9a8f214f69524e2797e904ea705a6574",
       "version_major": 2,
       "version_minor": 0
      },
      "text/plain": [
       "  0%|          | 0/60 [00:00<?, ?it/s]"
      ]
     },
     "metadata": {},
     "output_type": "display_data"
    }
   ],
   "source": [
    "mlp_best_params = {} # dict to store best params for each fingerprint\n",
    "mlp_error_values = {} # dict to store the error value with each trial iteration\n",
    "mlp_std_devs = {} # dict to store the std. deviations for each trial iteration\n",
    "for fprint in fprint_type:\n",
    "    X_train = get_fingerprint(fprint,train_data,'train')[0]\n",
    "    mlp_std_devs[fprint] = []\n",
    "    wrapper_func = lambda trial : get_model(trial,'mlp',X_train,y_train,mlp_std_devs[fprint])\n",
    "    study = optuna.create_study()\n",
    "    with warnings.catch_warnings():\n",
    "        warnings.filterwarnings(action='ignore',category=ExperimentalWarning)\n",
    "        warnings.filterwarnings(action='ignore',message='Choices for a categorical distribution should be a tuple')\n",
    "        study.optimize(wrapper_func,n_trials=60,show_progress_bar=True)\n",
    "    mlp_best_params[fprint] = study.best_trial\n",
    "    mlp_error_values[fprint] = list(study.trials_dataframe()['value'])"
   ]
  },
  {
   "cell_type": "code",
   "execution_count": 31,
   "id": "786ac538",
   "metadata": {},
   "outputs": [],
   "source": [
    "# save\n",
    "#with open('mlp_results_xtb.pkl', 'wb') as fh:\n",
    "#    pickle.dump((mlp_best_params,mlp_error_values,mlp_std_devs),fh,pickle.HIGHEST_PROTOCOL)\n",
    "# reload\n",
    "#with open('mlp_results_xtb.pkl', 'rb') as fh:\n",
    "#    mlp_best_params,mlp_error_values,mlp_std_devs = pickle.load(fh)"
   ]
  },
  {
   "cell_type": "code",
   "execution_count": 32,
   "id": "c25bc918",
   "metadata": {},
   "outputs": [
    {
     "name": "stdout",
     "output_type": "stream",
     "text": [
      "Best MAEs of cross-validation training (MLP)\n",
      "----\n",
      "APFP : 0.156 (std.dev: 0.009)\n",
      "ECFP4 : 0.144 (std.dev: 0.008)\n",
      "ECFP6 : 0.143 (std.dev: 0.006)\n",
      "ECFP8 : 0.149 (std.dev: 0.007)\n",
      "RDK : 0.133 (std.dev: 0.008)\n",
      "MACCS : 0.155 (std.dev: 0.008)\n",
      "MORDRED : 0.151 (std.dev: 0.009)\n",
      "NOISE : 0.214 (std.dev: 0.007)\n"
     ]
    }
   ],
   "source": [
    "print('Best MAEs of cross-validation training (MLP)')\n",
    "print('----')\n",
    "for fprint in fprint_type:\n",
    "    min_index = np.argmin(mlp_error_values[fprint])\n",
    "    best_mae = mlp_error_values[fprint][min_index]\n",
    "    best_std = mlp_std_devs[fprint][min_index]\n",
    "    print(fprint,': %.3f (std.dev: %.3f)' % (best_mae,best_std))"
   ]
  },
  {
   "cell_type": "code",
   "execution_count": 33,
   "id": "f2dd1c70",
   "metadata": {},
   "outputs": [
    {
     "data": {
      "image/png": "[encoded data removed]",
      "text/plain": [
       "<Figure size 432x288 with 1 Axes>"
      ]
     },
     "metadata": {
      "needs_background": "light"
     },
     "output_type": "display_data"
    }
   ],
   "source": [
    "# For plotting\n",
    "for fprint in fprint_type:\n",
    "    this_running_errors = running_min_val(mlp_error_values[fprint])\n",
    "    plt.plot(this_running_errors,label=fprint)\n",
    "plt.legend(loc='upper right',ncol=2)\n",
    "plt.tick_params(labelsize='large')\n",
    "plt.xlim(left=0,right=60)\n",
    "plt.ylim(top=0.35)\n",
    "plt.xlabel('number of iterations',fontsize='x-large')\n",
    "plt.ylabel('MAE of fitting to $\\Delta \\lambda$ (nm)',fontsize='x-large')\n",
    "plt.title('Multi-Layer Perceptron',fontsize='x-large')\n",
    "plt.show()"
   ]
  },
  {
   "cell_type": "code",
   "execution_count": 34,
   "id": "db6927ba",
   "metadata": {},
   "outputs": [
    {
     "name": "stdout",
     "output_type": "stream",
     "text": [
      "MAE and std. dev. on training data\n",
      "----\n",
      "Before fitting : MAE = 0.236 ; std. dev. = 0.257\n",
      "APFP : MAE = 0.112 ; std. dev. = 0.156\n",
      "ECFP4 : MAE = 0.084 ; std. dev. = 0.115\n",
      "ECFP6 : MAE = 0.085 ; std. dev. = 0.120\n",
      "ECFP8 : MAE = 0.084 ; std. dev. = 0.119\n",
      "RDK : MAE = 0.076 ; std. dev. = 0.108\n",
      "MACCS : MAE = 0.105 ; std. dev. = 0.138\n"
     ]
    },
    {
     "name": "stderr",
     "output_type": "stream",
     "text": [
      "100%|██████████████████████████████████████████████████████████████████████████████| 2492/2492 [05:50<00:00,  7.11it/s]\n"
     ]
    },
    {
     "name": "stdout",
     "output_type": "stream",
     "text": [
      "MORDRED : MAE = 0.101 ; std. dev. = 0.134\n",
      "NOISE : MAE = 0.207 ; std. dev. = 0.257\n"
     ]
    }
   ],
   "source": [
    "print('MAE and std. dev. on training data')\n",
    "print('----')\n",
    "print('Before fitting : MAE = %.3f ;'%mean_absolute_error(train_data.abs_max_ev,train_data.std_max_ev),end='')\n",
    "print(' std. dev. = %.3f'%np.std(y_train))\n",
    "for fprint in fprint_type:\n",
    "    X_train = get_fingerprint(fprint,train_data,'train')[0] # get training data (preprocessed)\n",
    "    # the best parameters are passed to get_model()\n",
    "    with warnings.catch_warnings():\n",
    "        warnings.filterwarnings(action='ignore',message='Choices for a categorical distribution should be a tuple')\n",
    "        predictor = get_model(mlp_best_params[fprint],'mlp',X_train,y_train,[],True) # get fitted model\n",
    "    y_train_pred = predictor.predict(X_train)\n",
    "    abs_max_pred = np.array(train_data.std_max_ev) + np.array(y_train_pred)\n",
    "    print(fprint,': MAE = %.3f ;'%mean_absolute_error(train_data.abs_max_ev,abs_max_pred),end='')\n",
    "    print(' std. dev. = %.3f'%np.std(np.array(train_data.abs_max_ev)-abs_max_pred))"
   ]
  },
  {
   "cell_type": "code",
   "execution_count": 35,
   "id": "d19cbcb4",
   "metadata": {},
   "outputs": [
    {
     "name": "stdout",
     "output_type": "stream",
     "text": [
      "MAE and std. dev. on test data\n",
      "----\n",
      "Before fitting : MAE = 0.226 ; std. dev. = 0.261\n",
      "APFP : MAE = 0.121 ; std. dev. = 0.167\n",
      "ECFP4 : MAE = 0.092 ; std. dev. = 0.135\n",
      "ECFP6 : MAE = 0.089 ; std. dev. = 0.126\n",
      "ECFP8 : MAE = 0.088 ; std. dev. = 0.123\n",
      "RDK : MAE = 0.079 ; std. dev. = 0.115\n",
      "MACCS : MAE = 0.106 ; std. dev. = 0.144\n"
     ]
    },
    {
     "name": "stderr",
     "output_type": "stream",
     "text": [
      "100%|██████████████████████████████████████████████████████████████████████████████| 2492/2492 [05:48<00:00,  7.15it/s]\n",
      "100%|████████████████████████████████████████████████████████████████████████████████| 631/631 [01:20<00:00,  7.84it/s]\n"
     ]
    },
    {
     "name": "stdout",
     "output_type": "stream",
     "text": [
      "MORDRED : MAE = 0.106 ; std. dev. = 0.144\n",
      "NOISE : MAE = 0.211 ; std. dev. = 0.261\n"
     ]
    }
   ],
   "source": [
    "print('MAE and std. dev. on test data')\n",
    "print('----')\n",
    "print('Before fitting : MAE = %.3f ;'%mean_absolute_error(test_data.abs_max_ev,test_data.std_max_ev),end='')\n",
    "print(' std. dev. = %.3f'%np.std(y_test))\n",
    "for fprint in fprint_type:\n",
    "    X_train, preproc = get_fingerprint(fprint,train_data,'train') # take fitted preprocessor for training data\n",
    "    X_test = preproc.transform(get_fingerprint(fprint,test_data,'test',True)) # transform unmodified fingerprints\n",
    "    with warnings.catch_warnings():\n",
    "        warnings.filterwarnings(action='ignore',message='Choices for a categorical distribution should be a tuple')\n",
    "        predictor = get_model(mlp_best_params[fprint],'mlp',X_train,y_train,[],True) #get fitted model on training dat\n",
    "    y_test_pred = predictor.predict(X_test)\n",
    "    abs_max_pred = np.array(test_data.std_max_ev) + np.array(y_test_pred)\n",
    "    print(fprint,': MAE = %.3f ;'%mean_absolute_error(test_data.abs_max_ev,abs_max_pred),end='')\n",
    "    print(' std. dev. = %.3f'%np.std(np.array(test_data.abs_max_ev)-abs_max_pred))"
   ]
  },
  {
   "cell_type": "markdown",
   "id": "108c8b55",
   "metadata": {},
   "source": [
    "## Random Forest"
   ]
  },
  {
   "cell_type": "code",
   "execution_count": 20,
   "id": "9f619a42",
   "metadata": {},
   "outputs": [
    {
     "data": {
      "application/vnd.jupyter.widget-view+json": {
       "model_id": "09958a100c294d55bf2728169ebfe58c",
       "version_major": 2,
       "version_minor": 0
      },
      "text/plain": [
       "  0%|          | 0/60 [00:00<?, ?it/s]"
      ]
     },
     "metadata": {},
     "output_type": "display_data"
    },
    {
     "data": {
      "application/vnd.jupyter.widget-view+json": {
       "model_id": "d0c0347cb072441b86477c58ef67b0c0",
       "version_major": 2,
       "version_minor": 0
      },
      "text/plain": [
       "  0%|          | 0/60 [00:00<?, ?it/s]"
      ]
     },
     "metadata": {},
     "output_type": "display_data"
    },
    {
     "data": {
      "application/vnd.jupyter.widget-view+json": {
       "model_id": "fed54f5d3c9d4d6ea99153c15cee1291",
       "version_major": 2,
       "version_minor": 0
      },
      "text/plain": [
       "  0%|          | 0/60 [00:00<?, ?it/s]"
      ]
     },
     "metadata": {},
     "output_type": "display_data"
    },
    {
     "data": {
      "application/vnd.jupyter.widget-view+json": {
       "model_id": "5fb811e1ba2b41478c9ec0ec432288d9",
       "version_major": 2,
       "version_minor": 0
      },
      "text/plain": [
       "  0%|          | 0/60 [00:00<?, ?it/s]"
      ]
     },
     "metadata": {},
     "output_type": "display_data"
    },
    {
     "data": {
      "application/vnd.jupyter.widget-view+json": {
       "model_id": "fbe92ad0a3f94ef190fc0191ba3b754c",
       "version_major": 2,
       "version_minor": 0
      },
      "text/plain": [
       "  0%|          | 0/60 [00:00<?, ?it/s]"
      ]
     },
     "metadata": {},
     "output_type": "display_data"
    },
    {
     "data": {
      "application/vnd.jupyter.widget-view+json": {
       "model_id": "751619e3408040dfa28e789ecc2be730",
       "version_major": 2,
       "version_minor": 0
      },
      "text/plain": [
       "  0%|          | 0/60 [00:00<?, ?it/s]"
      ]
     },
     "metadata": {},
     "output_type": "display_data"
    },
    {
     "name": "stderr",
     "output_type": "stream",
     "text": [
      "100%|██████████████████████████████████████████████████████████████████████████████| 2495/2495 [06:19<00:00,  6.58it/s]\n"
     ]
    },
    {
     "data": {
      "application/vnd.jupyter.widget-view+json": {
       "model_id": "db2e3908832e4469a5a64d7a25f1e50e",
       "version_major": 2,
       "version_minor": 0
      },
      "text/plain": [
       "  0%|          | 0/60 [00:00<?, ?it/s]"
      ]
     },
     "metadata": {},
     "output_type": "display_data"
    },
    {
     "data": {
      "application/vnd.jupyter.widget-view+json": {
       "model_id": "c593ea3afb334d0fb2f57614649c83c1",
       "version_major": 2,
       "version_minor": 0
      },
      "text/plain": [
       "  0%|          | 0/60 [00:00<?, ?it/s]"
      ]
     },
     "metadata": {},
     "output_type": "display_data"
    }
   ],
   "source": [
    "rf_best_params = {} # dict to store best params for each fingerprint\n",
    "rf_error_values = {} # dict to store the error value with each trial iteration\n",
    "rf_std_devs = {} # dict to store the std. deviations for each trial iteration\n",
    "for fprint in fprint_type:\n",
    "    X_train = get_fingerprint(fprint,train_data,'train')[0]\n",
    "    rf_std_devs[fprint] = []\n",
    "    wrapper_func = lambda trial : get_model(trial,'rf',X_train,y_train,rf_std_devs[fprint])\n",
    "    study = optuna.create_study()\n",
    "    with warnings.catch_warnings():\n",
    "        warnings.filterwarnings(action='ignore',category=ExperimentalWarning)\n",
    "        study.optimize(wrapper_func,n_trials=60,show_progress_bar=True)\n",
    "    rf_best_params[fprint] = study.best_trial\n",
    "    rf_error_values[fprint] = list(study.trials_dataframe()['value'])"
   ]
  },
  {
   "cell_type": "code",
   "execution_count": 36,
   "id": "a9423665",
   "metadata": {},
   "outputs": [],
   "source": [
    "# save\n",
    "#with open('rf_results_xtb.pkl', 'wb') as fh:\n",
    "#    pickle.dump((rf_best_params,rf_error_values,rf_std_devs),fh,pickle.HIGHEST_PROTOCOL)\n",
    "# reload\n",
    "#with open('rf_results_xtb.pkl','rb') as fh:\n",
    "#    rf_best_params,rf_error_values,rf_std_devs = pickle.load(fh)"
   ]
  },
  {
   "cell_type": "code",
   "execution_count": 37,
   "id": "8dd2cdf4",
   "metadata": {},
   "outputs": [
    {
     "name": "stdout",
     "output_type": "stream",
     "text": [
      "Best MAEs of cross-validation training (RF)\n",
      "----\n",
      "APFP : 0.173 (std.dev: 0.007)\n",
      "ECFP4 : 0.167 (std.dev: 0.006)\n",
      "ECFP6 : 0.172 (std.dev: 0.005)\n",
      "ECFP8 : 0.176 (std.dev: 0.006)\n",
      "RDK : 0.149 (std.dev: 0.007)\n",
      "MACCS : 0.161 (std.dev: 0.006)\n",
      "MORDRED : 0.163 (std.dev: 0.006)\n",
      "NOISE : 0.214 (std.dev: 0.006)\n"
     ]
    }
   ],
   "source": [
    "print('Best MAEs of cross-validation training (RF)')\n",
    "print('----')\n",
    "for fprint in fprint_type:\n",
    "    min_index = np.argmin(rf_error_values[fprint])\n",
    "    best_mae = rf_error_values[fprint][min_index]\n",
    "    best_std = rf_std_devs[fprint][min_index]\n",
    "    print(fprint,': %.3f (std.dev: %.3f)' % (best_mae,best_std))"
   ]
  },
  {
   "cell_type": "code",
   "execution_count": 38,
   "id": "1eddaac5",
   "metadata": {
    "scrolled": true
   },
   "outputs": [
    {
     "data": {
      "image/png": "[encoded data removed]",
      "text/plain": [
       "<Figure size 432x288 with 1 Axes>"
      ]
     },
     "metadata": {
      "needs_background": "light"
     },
     "output_type": "display_data"
    }
   ],
   "source": [
    "# For plotting\n",
    "for fprint in fprint_type:\n",
    "    this_running_errors = running_min_val(rf_error_values[fprint])\n",
    "    plt.plot(this_running_errors,label=fprint)\n",
    "plt.legend(loc='upper right',ncol=2)\n",
    "plt.tick_params(labelsize='large')\n",
    "plt.xlim(left=0,right=60)\n",
    "plt.ylim(top=0.28)\n",
    "plt.xlabel('number of iterations',fontsize='x-large')\n",
    "plt.ylabel('MAE of fitting to $\\Delta \\lambda$ (nm)',fontsize='x-large')\n",
    "plt.title('Random Forest',fontsize='x-large')\n",
    "plt.show()"
   ]
  },
  {
   "cell_type": "code",
   "execution_count": 39,
   "id": "e88800e2",
   "metadata": {},
   "outputs": [
    {
     "name": "stdout",
     "output_type": "stream",
     "text": [
      "MAE and std. dev. on training data\n",
      "----\n",
      "Before fitting : MAE = 0.236 ; std. dev. = 0.257\n",
      "APFP : MAE = 0.079 ; std. dev. = 0.106\n",
      "ECFP4 : MAE = 0.067 ; std. dev. = 0.090\n",
      "ECFP6 : MAE = 0.074 ; std. dev. = 0.099\n",
      "ECFP8 : MAE = 0.071 ; std. dev. = 0.094\n",
      "RDK : MAE = 0.061 ; std. dev. = 0.084\n",
      "MACCS : MAE = 0.069 ; std. dev. = 0.092\n"
     ]
    },
    {
     "name": "stderr",
     "output_type": "stream",
     "text": [
      "100%|██████████████████████████████████████████████████████████████████████████████| 2492/2492 [06:11<00:00,  6.71it/s]\n"
     ]
    },
    {
     "name": "stdout",
     "output_type": "stream",
     "text": [
      "MORDRED : MAE = 0.069 ; std. dev. = 0.093\n",
      "NOISE : MAE = 0.128 ; std. dev. = 0.161\n"
     ]
    }
   ],
   "source": [
    "print('MAE and std. dev. on training data')\n",
    "print('----')\n",
    "print('Before fitting : MAE = %.3f ;'%mean_absolute_error(train_data.abs_max_ev,train_data.std_max_ev),end='')\n",
    "print(' std. dev. = %.3f'%np.std(y_train))\n",
    "for fprint in fprint_type:\n",
    "    X_train = get_fingerprint(fprint,train_data,'train')[0] # get training data (preprocessed)\n",
    "    # the best parameters are passed to get_model()\n",
    "    predictor = get_model(rf_best_params[fprint],'rf',X_train,y_train,[],True) # get fitted model\n",
    "    y_train_pred = predictor.predict(X_train)\n",
    "    abs_max_pred = np.array(train_data.std_max_ev) + np.array(y_train_pred)\n",
    "    print(fprint,': MAE = %.3f ;'%mean_absolute_error(train_data.abs_max_ev,abs_max_pred),end='')\n",
    "    print(' std. dev. = %.3f'%np.std(np.array(train_data.abs_max_ev)-abs_max_pred))"
   ]
  },
  {
   "cell_type": "code",
   "execution_count": 40,
   "id": "57461b7b",
   "metadata": {},
   "outputs": [
    {
     "name": "stdout",
     "output_type": "stream",
     "text": [
      "MAE and std. dev. on test data\n",
      "----\n",
      "Before fitting : MAE = 0.226 ; std. dev. = 0.261\n",
      "APFP : MAE = 0.094 ; std. dev. = 0.127\n",
      "ECFP4 : MAE = 0.080 ; std. dev. = 0.113\n",
      "ECFP6 : MAE = 0.088 ; std. dev. = 0.121\n",
      "ECFP8 : MAE = 0.089 ; std. dev. = 0.121\n",
      "RDK : MAE = 0.076 ; std. dev. = 0.107\n",
      "MACCS : MAE = 0.085 ; std. dev. = 0.121\n"
     ]
    },
    {
     "name": "stderr",
     "output_type": "stream",
     "text": [
      "100%|██████████████████████████████████████████████████████████████████████████████| 2492/2492 [05:55<00:00,  7.02it/s]\n",
      "100%|████████████████████████████████████████████████████████████████████████████████| 631/631 [01:22<00:00,  7.63it/s]\n"
     ]
    },
    {
     "name": "stdout",
     "output_type": "stream",
     "text": [
      "MORDRED : MAE = 0.085 ; std. dev. = 0.119\n",
      "NOISE : MAE = 0.214 ; std. dev. = 0.264\n"
     ]
    }
   ],
   "source": [
    "print('MAE and std. dev. on test data')\n",
    "print('----')\n",
    "print('Before fitting : MAE = %.3f ;'%mean_absolute_error(test_data.abs_max_ev,test_data.std_max_ev),end='')\n",
    "print(' std. dev. = %.3f'%np.std(y_test))\n",
    "for fprint in fprint_type:\n",
    "    X_train, preproc = get_fingerprint(fprint,train_data,'train') # take fitted preprocessor for training data\n",
    "    X_test = preproc.transform(get_fingerprint(fprint,test_data,'test',True)) # transform unmodified fingerprints\n",
    "    predictor = get_model(rf_best_params[fprint],'rf',X_train,y_train,[],True) #get fitted model on training data\n",
    "    y_test_pred = predictor.predict(X_test)\n",
    "    abs_max_pred = np.array(test_data.std_max_ev) + np.array(y_test_pred)\n",
    "    print(fprint,': MAE = %.3f ;'%mean_absolute_error(test_data.abs_max_ev,abs_max_pred),end='')\n",
    "    print(' std. dev. = %.3f'%np.std(np.array(test_data.abs_max_ev)-abs_max_pred))"
   ]
  },
  {
   "cell_type": "markdown",
   "id": "a134a5be",
   "metadata": {},
   "source": [
    "## Testing SVM/ECFP6 with training set size"
   ]
  },
  {
   "cell_type": "markdown",
   "id": "ab738c1b",
   "metadata": {},
   "source": [
    "The original training set contains 2500 samples (some of them are discarded during the initial sTD-xTB data collection). Here, we test whether removing some data from the training set reduces its efficiency on the testing set."
   ]
  },
  {
   "cell_type": "code",
   "execution_count": 17,
   "id": "c22a646d",
   "metadata": {},
   "outputs": [],
   "source": [
    "from sklearn.model_selection import train_test_split"
   ]
  },
  {
   "cell_type": "code",
   "execution_count": 18,
   "id": "aabe845c",
   "metadata": {},
   "outputs": [],
   "source": [
    "X_train, preproc = get_fingerprint('ECFP6',train_data,'train')\n",
    "X_test = preproc.transform(get_fingerprint('ECFP6',test_data,'test',True))\n",
    "X_train_part = X_train.copy()\n",
    "y_train_part = y_train.copy()\n",
    "MAE_with_loss = {} # dict to store MAE for number of training samples\n",
    "for i in range(25):\n",
    "    # we use the best hyperparameters from previous optimisation\n",
    "    predictor = get_model(svm_best_params['ECFP6'],'svm',X_train_part,y_train_part,[],True) #get fitted model\n",
    "    y_test_pred = predictor.predict(X_test)\n",
    "    abs_max_pred = np.array(test_data.std_max_ev) + np.array(y_test_pred)\n",
    "    MAE_with_loss[X_train_part.shape[0]] = mean_absolute_error(test_data.abs_max_ev,abs_max_pred)\n",
    "    # lose 10% of the training dataset\n",
    "    X_train_part, dummy0, y_train_part, dummy1 = train_test_split(X_train_part,y_train_part,test_size=0.1)"
   ]
  },
  {
   "cell_type": "code",
   "execution_count": 28,
   "id": "13b1c4f3",
   "metadata": {},
   "outputs": [
    {
     "data": {
      "image/png": "[encoded data removed]",
      "text/plain": [
       "<Figure size 432x288 with 1 Axes>"
      ]
     },
     "metadata": {
      "needs_background": "light"
     },
     "output_type": "display_data"
    }
   ],
   "source": [
    "plt.plot(MAE_with_loss.keys(),MAE_with_loss.values(),'o-',label='SVM/ECFP6')\n",
    "plt.xlabel('Size of training set',fontsize='x-large')\n",
    "plt.ylabel('MAE on test set',fontsize='x-large')\n",
    "plt.tick_params(labelsize='large')\n",
    "plt.legend(loc='upper right',fontsize='large')\n",
    "#plt.savefig('SVM-ECFP6-loss-graph.png',bbox_inches='tight',dpi=512)"
   ]
  },
  {
   "cell_type": "markdown",
   "id": "7f075115",
   "metadata": {},
   "source": [
    "## Testing feature importance with RF/MACCS"
   ]
  },
  {
   "cell_type": "code",
   "execution_count": 16,
   "id": "d5de7802",
   "metadata": {},
   "outputs": [
    {
     "data": {
      "application/vnd.jupyter.widget-view+json": {
       "model_id": "b6e7c6ce364548448bf734942de62150",
       "version_major": 2,
       "version_minor": 0
      },
      "text/plain": [
       "  0%|          | 0/60 [00:00<?, ?it/s]"
      ]
     },
     "metadata": {},
     "output_type": "display_data"
    }
   ],
   "source": [
    "X_train = get_fingerprint('MACCS',train_data,'train',True) # get unmodified MACCS\n",
    "study = optuna.create_study()\n",
    "wrapper_func = lambda trial : get_model(trial,'rf',X_train,y_train,[])\n",
    "study = optuna.create_study()\n",
    "with warnings.catch_warnings():\n",
    "    warnings.filterwarnings(action='ignore',category=ExperimentalWarning)\n",
    "    study.optimize(wrapper_func,n_trials=60,show_progress_bar=True)"
   ]
  },
  {
   "cell_type": "code",
   "execution_count": 17,
   "id": "e2c4a911",
   "metadata": {},
   "outputs": [
    {
     "name": "stdout",
     "output_type": "stream",
     "text": [
      "{'n_estim_val': 100, 'max_feat_val': 'auto', 'max_depth_val': 90, 'min_samp_spl_val': 2, 'min_samp_lf_val': 1, 'max_samp_val': 0.9}\n"
     ]
    }
   ],
   "source": [
    "print(study.best_trial.params)"
   ]
  },
  {
   "cell_type": "code",
   "execution_count": 18,
   "id": "921aa23a",
   "metadata": {},
   "outputs": [
    {
     "name": "stdout",
     "output_type": "stream",
     "text": [
      "MACCS + RF : MAE on test data = 0.070\n"
     ]
    }
   ],
   "source": [
    "X_test = get_fingerprint('MACCS',test_data,'test',True)\n",
    "predictor = get_model(study.best_trial,'rf',X_train,y_train,[],True) #get fitted model on training data\n",
    "y_test_pred = predictor.predict(X_test)\n",
    "abs_max_pred = np.array(test_data.std_max_ev) + np.array(y_test_pred)\n",
    "print('MACCS + RF',': MAE on test data = %.3f'%mean_absolute_error(test_data.abs_max_ev,abs_max_pred))"
   ]
  },
  {
   "cell_type": "markdown",
   "id": "b2993c46",
   "metadata": {},
   "source": [
    "The MAE is quite good, but not as good as SVM/ECFP6 of course. Now we determine the importances of different MACCS positions."
   ]
  },
  {
   "cell_type": "code",
   "execution_count": 19,
   "id": "8478feaa",
   "metadata": {},
   "outputs": [],
   "source": [
    "# This cell calculates Gini impurity based results, which aren't very interpretable\n",
    "#importances = predictor.feature_importances_\n",
    "#feat_names = np.array([str(i) for i in range(167)]+['solvent_epsilon'])\n",
    "#sorted_indices = np.argsort(importances)[-10:] # choose 10 most important features\n",
    "#plt.barh(feat_names[sorted_indices],importances[sorted_indices],height=0.7,color='dimgrey')\n",
    "#plt.tick_params(labelsize='large')\n",
    "#plt.xlabel('Impurity based feature importance',fontsize='x-large')\n",
    "#plt.ylabel('MACCS position number',fontsize='x-large')\n",
    "#plt.savefig('RF-MACCS-importance.png')\n",
    "#plt.show()"
   ]
  },
  {
   "cell_type": "code",
   "execution_count": 20,
   "id": "41ed5d26",
   "metadata": {},
   "outputs": [],
   "source": [
    "import shap\n",
    "X_train_pd = pd.DataFrame(X_train)\n",
    "predictor = get_model(study.best_trial,'rf',X_train_pd,y_train,[],True) #get fitted model on training data\n",
    "explainer = shap.Explainer(predictor)"
   ]
  },
  {
   "cell_type": "code",
   "execution_count": 21,
   "id": "ded5f27d",
   "metadata": {},
   "outputs": [],
   "source": [
    "named_X = pd.DataFrame(X_test,columns=['MACCS #'+str(x) for x in range(167)]+['solvent_epsilon'])\n",
    "shap_values = explainer(named_X)"
   ]
  },
  {
   "cell_type": "code",
   "execution_count": 24,
   "id": "ea86ce7e",
   "metadata": {},
   "outputs": [
    {
     "name": "stdout",
     "output_type": "stream",
     "text": [
      "[-0.11811016]\n"
     ]
    }
   ],
   "source": [
    "print(shap_values.base_values[0])\n",
    "#with open('shapley_save','wb') as fh:\n",
    "#    pickle.dump(shap_values,fh,pickle.HIGHEST_PROTOCOL)\n",
    "#with open('shapley_save','rb') as fh:\n",
    "#    shap_values = pickle.load(fh)"
   ]
  },
  {
   "cell_type": "code",
   "execution_count": 66,
   "id": "395e61a0",
   "metadata": {},
   "outputs": [
    {
     "data": {
      "image/png": "[encoded data removed]",
      "text/plain": [
       "<Figure size 576x396 with 2 Axes>"
      ]
     },
     "metadata": {
      "needs_background": "light"
     },
     "output_type": "display_data"
    }
   ],
   "source": [
    "shap.summary_plot(shap_values,named_X,max_display=10,plot_type='dot',show=False)\n",
    "plt.gcf().axes[-1].set_aspect(30)\n",
    "plt.gcf().axes[-1].set_box_aspect(70)\n",
    "plt.xlim(left=-0.15,right=0.15)\n",
    "#plt.savefig('shapley-RF-MACCS.png',bbox_inches='tight',dpi=512)\n",
    "plt.show()"
   ]
  },
  {
   "cell_type": "markdown",
   "id": "671437c4",
   "metadata": {},
   "source": [
    "## Testing fitted model on FRET dyes"
   ]
  },
  {
   "cell_type": "code",
   "execution_count": null,
   "id": "2140d287",
   "metadata": {},
   "outputs": [],
   "source": []
  }
 ],
 "metadata": {
  "kernelspec": {
   "display_name": "Python 3 (ipykernel)",
   "language": "python",
   "name": "python3"
  },
  "language_info": {
   "codemirror_mode": {
    "name": "ipython",
    "version": 3
   },
   "file_extension": ".py",
   "mimetype": "text/x-python",
   "name": "python",
   "nbconvert_exporter": "python",
   "pygments_lexer": "ipython3",
   "version": "3.7.12"
  }
 },
 "nbformat": 4,
 "nbformat_minor": 5
}
